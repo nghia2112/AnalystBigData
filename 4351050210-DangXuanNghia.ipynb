{
 "cells": [
  {
   "cell_type": "code",
   "execution_count": 0,
   "metadata": {
    "application/vnd.databricks.v1+cell": {
     "cellMetadata": {
      "byteLimit": 2048000,
      "rowLimit": 10000
     },
     "inputWidgets": {},
     "nuid": "186ca49d-2a87-420d-90a6-a3a558844967",
     "showTitle": false,
     "title": ""
    }
   },
   "outputs": [],
   "source": [
    "# dbfs:/FileStore/shared_uploads/danghia2002@gmail.com/hotel.csv"
   ]
  },
  {
   "cell_type": "code",
   "execution_count": 0,
   "metadata": {
    "application/vnd.databricks.v1+cell": {
     "cellMetadata": {
      "byteLimit": 2048000,
      "rowLimit": 10000
     },
     "inputWidgets": {},
     "nuid": "8ea40d35-6dea-4573-b1af-0efe30eee2fe",
     "showTitle": false,
     "title": ""
    }
   },
   "outputs": [],
   "source": [
    "from pyspark.sql import SparkSession\n",
    "from pyspark.sql import SparkSession\n",
    "from pyspark.sql.functions import lit, col, when, min, max, count\n",
    "from pyspark.sql.types import FloatType\n",
    "from pyspark.sql.functions import skewness\n",
    "import matplotlib.pyplot as plt"
   ]
  },
  {
   "cell_type": "code",
   "execution_count": 0,
   "metadata": {
    "application/vnd.databricks.v1+cell": {
     "cellMetadata": {
      "byteLimit": 2048000,
      "rowLimit": 10000
     },
     "inputWidgets": {},
     "nuid": "579f22f7-98e7-4c28-8902-6f5be969b96d",
     "showTitle": false,
     "title": ""
    }
   },
   "outputs": [
    {
     "output_type": "stream",
     "name": "stdout",
     "output_type": "stream",
     "text": [
      "+------------+-----------+---------+-----------------+------------------+------------------------+-------------------------+-----------------------+--------------------+------+--------+------+----+-------+--------------+--------------------+-----------------+----------------------+------------------------------+------------------+------------------+---------------+------------+-----+-------+--------------------+-------------+------+---------------------------+-------------------------+------------------+-----------------------+\n|       hotel|is_canceled|lead_time|arrival_date_year|arrival_date_month|arrival_date_week_number|arrival_date_day_of_month|stays_in_weekend_nights|stays_in_week_nights|adults|children|babies|meal|country|market_segment|distribution_channel|is_repeated_guest|previous_cancellations|previous_bookings_not_canceled|reserved_room_type|assigned_room_type|booking_changes|deposit_type|agent|company|days_in_waiting_list|customer_type|   adr|required_car_parking_spaces|total_of_special_requests|reservation_status|reservation_status_date|\n+------------+-----------+---------+-----------------+------------------+------------------------+-------------------------+-----------------------+--------------------+------+--------+------+----+-------+--------------+--------------------+-----------------+----------------------+------------------------------+------------------+------------------+---------------+------------+-----+-------+--------------------+-------------+------+---------------------------+-------------------------+------------------+-----------------------+\n|Resort Hotel|          0|      342|             2015|              July|                      27|                        1|                      0|                   0|     2|       0|     0|  BB|    PRT|        Direct|              Direct|                0|                     0|                             0|                 C|                 C|              3|  No Deposit| NULL|   NULL|                   0|    Transient|     0|                          0|                        0|         Check-Out|             2015-07-01|\n|Resort Hotel|          0|      737|             2015|              July|                      27|                        1|                      0|                   0|     2|       0|     0|  BB|    PRT|        Direct|              Direct|                0|                     0|                             0|                 C|                 C|              4|  No Deposit| NULL|   NULL|                   0|    Transient|     0|                          0|                        0|         Check-Out|             2015-07-01|\n|Resort Hotel|          0|        7|             2015|              July|                      27|                        1|                      0|                   1|     1|       0|     0|  BB|    GBR|        Direct|              Direct|                0|                     0|                             0|                 A|                 C|              0|  No Deposit| NULL|   NULL|                   0|    Transient|    75|                          0|                        0|         Check-Out|             2015-07-02|\n|Resort Hotel|          0|       13|             2015|              July|                      27|                        1|                      0|                   1|     1|       0|     0|  BB|    GBR|     Corporate|           Corporate|                0|                     0|                             0|                 A|                 A|              0|  No Deposit|  304|   NULL|                   0|    Transient|    75|                          0|                        0|         Check-Out|             2015-07-02|\n|Resort Hotel|          0|       14|             2015|              July|                      27|                        1|                      0|                   2|     2|       0|     0|  BB|    GBR|     Online TA|               TA/TO|                0|                     0|                             0|                 A|                 A|              0|  No Deposit|  240|   NULL|                   0|    Transient|    98|                          0|                        1|         Check-Out|             2015-07-03|\n|Resort Hotel|          0|       14|             2015|              July|                      27|                        1|                      0|                   2|     2|       0|     0|  BB|    GBR|     Online TA|               TA/TO|                0|                     0|                             0|                 A|                 A|              0|  No Deposit|  240|   NULL|                   0|    Transient|    98|                          0|                        1|         Check-Out|             2015-07-03|\n|Resort Hotel|          0|        0|             2015|              July|                      27|                        1|                      0|                   2|     2|       0|     0|  BB|    PRT|        Direct|              Direct|                0|                     0|                             0|                 C|                 C|              0|  No Deposit| NULL|   NULL|                   0|    Transient|   107|                          0|                        0|         Check-Out|             2015-07-03|\n|Resort Hotel|          0|        9|             2015|              July|                      27|                        1|                      0|                   2|     2|       0|     0|  FB|    PRT|        Direct|              Direct|                0|                     0|                             0|                 C|                 C|              0|  No Deposit|  303|   NULL|                   0|    Transient|   103|                          0|                        1|         Check-Out|             2015-07-03|\n|Resort Hotel|          1|       85|             2015|              July|                      27|                        1|                      0|                   3|     2|       0|     0|  BB|    PRT|     Online TA|               TA/TO|                0|                     0|                             0|                 A|                 A|              0|  No Deposit|  240|   NULL|                   0|    Transient|    82|                          0|                        1|          Canceled|             2015-05-06|\n|Resort Hotel|          1|       75|             2015|              July|                      27|                        1|                      0|                   3|     2|       0|     0|  HB|    PRT| Offline TA/TO|               TA/TO|                0|                     0|                             0|                 D|                 D|              0|  No Deposit|   15|   NULL|                   0|    Transient| 105.5|                          0|                        0|          Canceled|             2015-04-22|\n|Resort Hotel|          1|       23|             2015|              July|                      27|                        1|                      0|                   4|     2|       0|     0|  BB|    PRT|     Online TA|               TA/TO|                0|                     0|                             0|                 E|                 E|              0|  No Deposit|  240|   NULL|                   0|    Transient|   123|                          0|                        0|          Canceled|             2015-06-23|\n|Resort Hotel|          0|       35|             2015|              July|                      27|                        1|                      0|                   4|     2|       0|     0|  HB|    PRT|     Online TA|               TA/TO|                0|                     0|                             0|                 D|                 D|              0|  No Deposit|  240|   NULL|                   0|    Transient|   145|                          0|                        0|         Check-Out|             2015-07-05|\n|Resort Hotel|          0|       68|             2015|              July|                      27|                        1|                      0|                   4|     2|       0|     0|  BB|    USA|     Online TA|               TA/TO|                0|                     0|                             0|                 D|                 E|              0|  No Deposit|  240|   NULL|                   0|    Transient|    97|                          0|                        3|         Check-Out|             2015-07-05|\n|Resort Hotel|          0|       18|             2015|              July|                      27|                        1|                      0|                   4|     2|       1|     0|  HB|    ESP|     Online TA|               TA/TO|                0|                     0|                             0|                 G|                 G|              1|  No Deposit|  241|   NULL|                   0|    Transient|154.77|                          0|                        1|         Check-Out|             2015-07-05|\n|Resort Hotel|          0|       37|             2015|              July|                      27|                        1|                      0|                   4|     2|       0|     0|  BB|    PRT|     Online TA|               TA/TO|                0|                     0|                             0|                 E|                 E|              0|  No Deposit|  241|   NULL|                   0|    Transient| 94.71|                          0|                        0|         Check-Out|             2015-07-05|\n|Resort Hotel|          0|       68|             2015|              July|                      27|                        1|                      0|                   4|     2|       0|     0|  BB|    IRL|     Online TA|               TA/TO|                0|                     0|                             0|                 D|                 E|              0|  No Deposit|  240|   NULL|                   0|    Transient|    97|                          0|                        3|         Check-Out|             2015-07-05|\n|Resort Hotel|          0|       37|             2015|              July|                      27|                        1|                      0|                   4|     2|       0|     0|  BB|    PRT| Offline TA/TO|               TA/TO|                0|                     0|                             0|                 E|                 E|              0|  No Deposit|    8|   NULL|                   0|     Contract|  97.5|                          0|                        0|         Check-Out|             2015-07-05|\n|Resort Hotel|          0|       12|             2015|              July|                      27|                        1|                      0|                   1|     2|       0|     0|  BB|    IRL|     Online TA|               TA/TO|                0|                     0|                             0|                 A|                 E|              0|  No Deposit|  240|   NULL|                   0|    Transient|  88.2|                          0|                        0|         Check-Out|             2015-07-02|\n|Resort Hotel|          0|        0|             2015|              July|                      27|                        1|                      0|                   1|     2|       0|     0|  BB|    FRA|     Corporate|           Corporate|                0|                     0|                             0|                 A|                 G|              0|  No Deposit| NULL|    110|                   0|    Transient|107.42|                          0|                        0|         Check-Out|             2015-07-02|\n|Resort Hotel|          0|        7|             2015|              July|                      27|                        1|                      0|                   4|     2|       0|     0|  BB|    GBR|        Direct|              Direct|                0|                     0|                             0|                 G|                 G|              0|  No Deposit|  250|   NULL|                   0|    Transient|   153|                          0|                        1|         Check-Out|             2015-07-05|\n+------------+-----------+---------+-----------------+------------------+------------------------+-------------------------+-----------------------+--------------------+------+--------+------+----+-------+--------------+--------------------+-----------------+----------------------+------------------------------+------------------+------------------+---------------+------------+-----+-------+--------------------+-------------+------+---------------------------+-------------------------+------------------+-----------------------+\nonly showing top 20 rows\n\n"
     ]
    }
   ],
   "source": [
    "#Câu 1: Nạp file dữ liệu lên DataFrame với kiểu dữ liệu được xác định tự động\n",
    "spark = SparkSession.builder.getOrCreate()\n",
    "df = spark.read.csv('dbfs:/FileStore/shared_uploads/danghia2002@gmail.com/hotel.csv', header=True)\n",
    "df.show()"
   ]
  },
  {
   "cell_type": "code",
   "execution_count": 0,
   "metadata": {
    "application/vnd.databricks.v1+cell": {
     "cellMetadata": {
      "byteLimit": 2048000,
      "rowLimit": 10000
     },
     "inputWidgets": {},
     "nuid": "3ce97abb-adc7-43ae-a550-913f374828bb",
     "showTitle": false,
     "title": ""
    }
   },
   "outputs": [],
   "source": [
    "int_columns = ['is_canceled', 'lead_time', 'arrival_date_year', 'arrival_date_week_number',\n",
    "               'arrival_date_day_of_month', 'stays_in_weekend_nights', 'stays_in_week_nights',\n",
    "               'adults', 'children', 'babies', 'previous_cancellations', 'previous_bookings_not_canceled',\n",
    "               'booking_changes']\n",
    "for column in int_columns:\n",
    "    df = df.withColumn(column, df[column].cast('int'))"
   ]
  },
  {
   "cell_type": "code",
   "execution_count": 0,
   "metadata": {
    "application/vnd.databricks.v1+cell": {
     "cellMetadata": {
      "byteLimit": 2048000,
      "rowLimit": 10000
     },
     "inputWidgets": {},
     "nuid": "eba1421a-908e-4f4e-86a5-c8ea30adb74a",
     "showTitle": false,
     "title": ""
    }
   },
   "outputs": [
    {
     "output_type": "stream",
     "name": "stdout",
     "output_type": "stream",
     "text": [
      "Số lượng đặt phòng trong năm 2015: 21996\n"
     ]
    }
   ],
   "source": [
    "#Câu 2: Cho biết số lượng đặt phòng trong năm 2015\n",
    "bookings_2015 = df.filter(df['arrival_date_year'] == 2015).count()\n",
    "print(\"Số lượng đặt phòng trong năm 2015:\", bookings_2015)"
   ]
  },
  {
   "cell_type": "code",
   "execution_count": 0,
   "metadata": {
    "application/vnd.databricks.v1+cell": {
     "cellMetadata": {
      "byteLimit": 2048000,
      "rowLimit": 10000
     },
     "inputWidgets": {},
     "nuid": "a07d1e9c-4b70-40ff-9459-d151edc2afda",
     "showTitle": false,
     "title": ""
    }
   },
   "outputs": [
    {
     "output_type": "stream",
     "name": "stdout",
     "output_type": "stream",
     "text": [
      "Tỉ lệ hủy đặt phòng năm 2015: 0.3701582105837425\n"
     ]
    }
   ],
   "source": [
    "#Câu 3: Cho biết tỉ lệ hủy đặt phòng năm 2015\n",
    "#Tổng số lượng đặt phòng bị hủy\n",
    "cancel_2015 = df.filter((df['arrival_date_year'] == 2015) & (df['is_canceled'] == 1)).count()\n",
    "#Tỉ lệ hủy\n",
    "cancel_rate_2015 = cancel_2015 / bookings_2015\n",
    "print(\"Tỉ lệ hủy đặt phòng năm 2015:\", cancel_rate_2015)\n"
   ]
  },
  {
   "cell_type": "code",
   "execution_count": 0,
   "metadata": {
    "application/vnd.databricks.v1+cell": {
     "cellMetadata": {
      "byteLimit": 2048000,
      "rowLimit": 10000
     },
     "inputWidgets": {},
     "nuid": "906169ee-4153-479c-85e1-2c66272e4ae2",
     "showTitle": false,
     "title": ""
    }
   },
   "outputs": [
    {
     "output_type": "stream",
     "name": "stdout",
     "output_type": "stream",
     "text": [
      "Nước có tỉ lệ hủy đặt phòng cao nhất: GGY\n"
     ]
    }
   ],
   "source": [
    "#Câu 4: Cho biết nước nào có tỉ lệ hủy đặt phòng cao nhất\n",
    "cancel_rates_by_country = df.groupBy('country').agg({'is_canceled': 'mean'}).withColumnRenamed('avg(is_canceled)', 'cancel_rate')\n",
    "max_cancel_rate = cancel_rates_by_country.agg({'cancel_rate': 'max'}).collect()[0]['max(cancel_rate)']\n",
    "country_with_max_cancel_rate = cancel_rates_by_country.filter(cancel_rates_by_country['cancel_rate'] == max_cancel_rate).collect()[0]['country']\n",
    "print(\"Nước có tỉ lệ hủy đặt phòng cao nhất:\", country_with_max_cancel_rate)"
   ]
  },
  {
   "cell_type": "code",
   "execution_count": 0,
   "metadata": {
    "application/vnd.databricks.v1+cell": {
     "cellMetadata": {
      "byteLimit": 2048000,
      "rowLimit": 10000
     },
     "inputWidgets": {},
     "nuid": "b39c03c5-abb6-4b28-8d73-ac4b9a98ccba",
     "showTitle": false,
     "title": ""
    }
   },
   "outputs": [
    {
     "output_type": "stream",
     "name": "stdout",
     "output_type": "stream",
     "text": [
      "+-------+-----+\n|country|count|\n+-------+-----+\n|    POL|  919|\n|    LVA|   55|\n|    ZMB|    2|\n|    JAM|    6|\n|    BRA| 2224|\n|    ARM|    8|\n|    MOZ|   67|\n|    CUB|    8|\n|    JOR|   21|\n|    FRA|10415|\n|    URY|   32|\n|    GIB|   18|\n|     CN| 1279|\n|    ITA| 3766|\n|    UKR|   68|\n|    CMR|   10|\n|    SEN|   11|\n|    COM|    2|\n|    HRV|  100|\n|    QAT|   15|\n+-------+-----+\nonly showing top 20 rows\n\n"
     ]
    }
   ],
   "source": [
    "#Câu 5: Cho biết số lượt đặt phòng theo số ngày ở và quốc gia\n",
    "#Số lượt đặt phòng theo quốc gia\n",
    "country_count = df.groupBy(\"country\").count()\n",
    "country_count.show()"
   ]
  },
  {
   "cell_type": "code",
   "execution_count": 0,
   "metadata": {
    "application/vnd.databricks.v1+cell": {
     "cellMetadata": {
      "byteLimit": 2048000,
      "rowLimit": 10000
     },
     "inputWidgets": {},
     "nuid": "56a4bce0-685a-478e-91ea-cb57ef16ce74",
     "showTitle": false,
     "title": ""
    }
   },
   "outputs": [],
   "source": [
    "#Số lượt đặt phòng theo ngày ở\n"
   ]
  },
  {
   "cell_type": "code",
   "execution_count": 0,
   "metadata": {
    "application/vnd.databricks.v1+cell": {
     "cellMetadata": {
      "byteLimit": 2048000,
      "rowLimit": 10000
     },
     "inputWidgets": {},
     "nuid": "a44793db-a6ee-43c0-8d42-34bb041f3624",
     "showTitle": false,
     "title": ""
    }
   },
   "outputs": [
    {
     "output_type": "display_data",
     "data": {
      "text/plain": [
       "\u001B[0;31m---------------------------------------------------------------------------\u001B[0m\n",
       "\u001B[0;31mNameError\u001B[0m                                 Traceback (most recent call last)\n",
       "File \u001B[0;32m<command-176253611682839>:4\u001B[0m\n",
       "\u001B[1;32m      1\u001B[0m \u001B[38;5;66;03m#Câu 6: Vẽ biểu đồ thống kê số lượt đặt phòng theo tháng trong năm \u001B[39;00m\n",
       "\u001B[1;32m      2\u001B[0m \u001B[38;5;66;03m#Thống kê số lượt đặt phòng theo tháng trong năm\u001B[39;00m\n",
       "\u001B[1;32m      3\u001B[0m bookings_by_month \u001B[38;5;241m=\u001B[39m df\u001B[38;5;241m.\u001B[39mgroupBy(\u001B[38;5;124m'\u001B[39m\u001B[38;5;124marrival_date_month\u001B[39m\u001B[38;5;124m'\u001B[39m)\u001B[38;5;241m.\u001B[39magg(count(\u001B[38;5;124m'\u001B[39m\u001B[38;5;124m*\u001B[39m\u001B[38;5;124m'\u001B[39m)\u001B[38;5;241m.\u001B[39malias(\u001B[38;5;124m'\u001B[39m\u001B[38;5;124mbooking_count\u001B[39m\u001B[38;5;124m'\u001B[39m))\n",
       "\u001B[0;32m----> 4\u001B[0m bookings_by_month \u001B[38;5;241m=\u001B[39m bookings_by_month\u001B[38;5;241m.\u001B[39msort(months_dict[\u001B[38;5;124m'\u001B[39m\u001B[38;5;124marrival_date_month\u001B[39m\u001B[38;5;124m'\u001B[39m])\n",
       "\u001B[1;32m      5\u001B[0m months \u001B[38;5;241m=\u001B[39m bookings_by_month\u001B[38;5;241m.\u001B[39mselect(\u001B[38;5;124m'\u001B[39m\u001B[38;5;124marrival_date_month\u001B[39m\u001B[38;5;124m'\u001B[39m)\u001B[38;5;241m.\u001B[39mrdd\u001B[38;5;241m.\u001B[39mflatMap(\u001B[38;5;28;01mlambda\u001B[39;00m x: x)\u001B[38;5;241m.\u001B[39mcollect()\n",
       "\u001B[1;32m      6\u001B[0m booking_counts \u001B[38;5;241m=\u001B[39m bookings_by_month\u001B[38;5;241m.\u001B[39mselect(\u001B[38;5;124m'\u001B[39m\u001B[38;5;124mbooking_count\u001B[39m\u001B[38;5;124m'\u001B[39m)\u001B[38;5;241m.\u001B[39mrdd\u001B[38;5;241m.\u001B[39mflatMap(\u001B[38;5;28;01mlambda\u001B[39;00m x: x)\u001B[38;5;241m.\u001B[39mcollect()\n",
       "\n",
       "\u001B[0;31mNameError\u001B[0m: name 'months_dict' is not defined"
      ]
     },
     "metadata": {
      "application/vnd.databricks.v1+output": {
       "arguments": {},
       "data": "\u001B[0;31m---------------------------------------------------------------------------\u001B[0m\n\u001B[0;31mNameError\u001B[0m                                 Traceback (most recent call last)\nFile \u001B[0;32m<command-176253611682839>:4\u001B[0m\n\u001B[1;32m      1\u001B[0m \u001B[38;5;66;03m#Câu 6: Vẽ biểu đồ thống kê số lượt đặt phòng theo tháng trong năm \u001B[39;00m\n\u001B[1;32m      2\u001B[0m \u001B[38;5;66;03m#Thống kê số lượt đặt phòng theo tháng trong năm\u001B[39;00m\n\u001B[1;32m      3\u001B[0m bookings_by_month \u001B[38;5;241m=\u001B[39m df\u001B[38;5;241m.\u001B[39mgroupBy(\u001B[38;5;124m'\u001B[39m\u001B[38;5;124marrival_date_month\u001B[39m\u001B[38;5;124m'\u001B[39m)\u001B[38;5;241m.\u001B[39magg(count(\u001B[38;5;124m'\u001B[39m\u001B[38;5;124m*\u001B[39m\u001B[38;5;124m'\u001B[39m)\u001B[38;5;241m.\u001B[39malias(\u001B[38;5;124m'\u001B[39m\u001B[38;5;124mbooking_count\u001B[39m\u001B[38;5;124m'\u001B[39m))\n\u001B[0;32m----> 4\u001B[0m bookings_by_month \u001B[38;5;241m=\u001B[39m bookings_by_month\u001B[38;5;241m.\u001B[39msort(months_dict[\u001B[38;5;124m'\u001B[39m\u001B[38;5;124marrival_date_month\u001B[39m\u001B[38;5;124m'\u001B[39m])\n\u001B[1;32m      5\u001B[0m months \u001B[38;5;241m=\u001B[39m bookings_by_month\u001B[38;5;241m.\u001B[39mselect(\u001B[38;5;124m'\u001B[39m\u001B[38;5;124marrival_date_month\u001B[39m\u001B[38;5;124m'\u001B[39m)\u001B[38;5;241m.\u001B[39mrdd\u001B[38;5;241m.\u001B[39mflatMap(\u001B[38;5;28;01mlambda\u001B[39;00m x: x)\u001B[38;5;241m.\u001B[39mcollect()\n\u001B[1;32m      6\u001B[0m booking_counts \u001B[38;5;241m=\u001B[39m bookings_by_month\u001B[38;5;241m.\u001B[39mselect(\u001B[38;5;124m'\u001B[39m\u001B[38;5;124mbooking_count\u001B[39m\u001B[38;5;124m'\u001B[39m)\u001B[38;5;241m.\u001B[39mrdd\u001B[38;5;241m.\u001B[39mflatMap(\u001B[38;5;28;01mlambda\u001B[39;00m x: x)\u001B[38;5;241m.\u001B[39mcollect()\n\n\u001B[0;31mNameError\u001B[0m: name 'months_dict' is not defined",
       "errorSummary": "<span class='ansi-red-fg'>NameError</span>: name 'months_dict' is not defined",
       "errorTraceType": "ansi",
       "metadata": {},
       "type": "ipynbError"
      }
     },
     "output_type": "display_data"
    }
   ],
   "source": [
    "#Câu 6: Vẽ biểu đồ thống kê số lượt đặt phòng theo tháng trong năm \n",
    "#Thống kê số lượt đặt phòng theo tháng trong năm\n",
    "bookings_by_month = df.groupBy('arrival_date_month').agg(count('*').alias('booking_count'))\n",
    "\n"
   ]
  }
 ],
 "metadata": {
  "application/vnd.databricks.v1+notebook": {
   "dashboards": [],
   "language": "python",
   "notebookMetadata": {
    "pythonIndentUnit": 4
   },
   "notebookName": "4351050210-DangXuanNghia",
   "widgets": {}
  }
 },
 "nbformat": 4,
 "nbformat_minor": 0
}
