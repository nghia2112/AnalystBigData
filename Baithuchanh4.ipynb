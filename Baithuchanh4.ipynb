{
 "cells": [
  {
   "cell_type": "code",
   "execution_count": 0,
   "metadata": {
    "application/vnd.databricks.v1+cell": {
     "cellMetadata": {
      "byteLimit": 2048000,
      "rowLimit": 10000
     },
     "inputWidgets": {},
     "nuid": "18f05fde-6fe7-4322-b2f1-9fc60f44bebf",
     "showTitle": false,
     "title": ""
    }
   },
   "outputs": [],
   "source": [
    "#Đọc file dữ liệu\n",
    "df = \"dbfs:/FileStore/shared_uploads/danghia2002@gmail.com/diemthi2020.csv\""
   ]
  },
  {
   "cell_type": "code",
   "execution_count": 0,
   "metadata": {
    "application/vnd.databricks.v1+cell": {
     "cellMetadata": {
      "byteLimit": 2048000,
      "rowLimit": 10000
     },
     "inputWidgets": {},
     "nuid": "cf56a50f-bcbd-4a1d-86e8-10cd698ddd04",
     "showTitle": false,
     "title": ""
    }
   },
   "outputs": [],
   "source": [
    "#Đọc tệp thành RDD\n",
    "rdd = sc.textFile(df)"
   ]
  },
  {
   "cell_type": "code",
   "execution_count": 0,
   "metadata": {
    "application/vnd.databricks.v1+cell": {
     "cellMetadata": {
      "byteLimit": 2048000,
      "rowLimit": 10000
     },
     "inputWidgets": {},
     "nuid": "84ac0140-b788-4eaf-9432-8a68e8e9bd2e",
     "showTitle": false,
     "title": ""
    }
   },
   "outputs": [],
   "source": [
    "#Nạp dữ liệu\n",
    "def fsplit(s):\n",
    "    l = s.split(',')\n",
    "    d = {'TT': int(l[0]), 'SBD': l[11]}\n",
    "    if l[1] != '':\n",
    "        d['Dia'] = float(l[1])\n",
    "    if l[2] != '':\n",
    "        d['GDCD'] = float(l[2])\n",
    "    if l[3] != '':\n",
    "        d['Hoa'] = float(l[3])\n",
    "    if l[4] != '':\n",
    "        d['Li'] = float(l[4])\n",
    "    if l[6] != '':\n",
    "        d['NN'] = float(l[6])\n",
    "    if l[7] != '':\n",
    "        d['Sinh'] = float(l[7])\n",
    "    if l[8] != '':\n",
    "        d['Su'] = float(l[8])\n",
    "    if l[9] != '':\n",
    "        d['Toan'] = float(l[9])\n",
    "    if l[10] != '':\n",
    "        d['Van'] = float(l[10])\n",
    "    return [d]\n",
    "\n",
    "rdd = sc.textFile('dbfs:/FileStore/shared_uploads/danghia2002@gmail.com/diemthi2020.csv').filter(lambda s: s[0] != 'T').flatMap(fsplit)"
   ]
  },
  {
   "cell_type": "code",
   "execution_count": 0,
   "metadata": {
    "application/vnd.databricks.v1+cell": {
     "cellMetadata": {
      "byteLimit": 2048000,
      "rowLimit": 10000
     },
     "inputWidgets": {},
     "nuid": "b1bd9ca3-4607-4447-a26f-2d78768ac0d1",
     "showTitle": false,
     "title": ""
    }
   },
   "outputs": [
    {
     "output_type": "stream",
     "name": "stdout",
     "output_type": "stream",
     "text": [
      "Số bài thi điểm 0 môn GDCD: 42\nSố bài thi điểm 0 môn Toan: 7\nSố bài thi điểm 0 môn Hoa: 13\nSố bài thi điểm 0 môn Sinh: 23\nSố bài thi điểm 0 môn Dia: 125\nSố bài thi điểm 0 môn NN: 18\nSố bài thi điểm 0 môn Su: 18\nSố bài thi điểm 0 môn Van: 32\nSố bài thi điểm 0 môn Li: 8\n"
     ]
    }
   ],
   "source": [
    "# 1. Đếm số bài thi điểm 0 từng môn.\n",
    "rdd1 = rdd.flatMap(lambda h: [(x, y) for x, y in h.items()]) \\\n",
    ".filter(lambda t: not (t[0] in ['TT', 'SBD'])) \\\n",
    ".groupByKey() \\\n",
    ".mapValues(lambda values: sum(1 for v in values if v == 0))\n",
    "\n",
    "# In ra danh sách số bài thi điểm 0 từng môn\n",
    "result = rdd1.collect()\n",
    "for subject, count in result:\n",
    "    print(f\"Số bài thi điểm 0 môn {subject}: {count}\")"
   ]
  },
  {
   "cell_type": "code",
   "execution_count": 0,
   "metadata": {
    "application/vnd.databricks.v1+cell": {
     "cellMetadata": {
      "byteLimit": 2048000,
      "rowLimit": 10000
     },
     "inputWidgets": {},
     "nuid": "cf1e0171-70d0-444c-9c96-d8ef75b1ee00",
     "showTitle": false,
     "title": ""
    }
   },
   "outputs": [
    {
     "output_type": "stream",
     "name": "stdout",
     "output_type": "stream",
     "text": [
      "Môn thi có nhiều bài thi đạt điểm 10 nhất là GDCD với 4195 bài thi điểm 10.\n"
     ]
    }
   ],
   "source": [
    "# Tìm môn thi có nhiều bài thi đạt điểm 10 nhất và số bài thi điểm 10 của môn đó\n",
    "rdd1 = rdd.flatMap(lambda h: [(x, y) for x, y in h.items()]) \\\n",
    ".filter(lambda t: not (t[0] in ['TT', 'SBD'])) \\\n",
    ".filter(lambda t: t[1] == 10) \\\n",
    ".map(lambda t: (t[0], 1)) \\\n",
    ".reduceByKey(lambda a, b: a + b) \\\n",
    ".sortBy(lambda t: t[1], ascending=False)\n",
    "\n",
    "# Lấy thông tin môn thi có nhiều bài thi đạt điểm 10 nhất\n",
    "top_subject = rdd1.first()\n",
    "subject = top_subject[0]\n",
    "count = top_subject[1]\n",
    "\n",
    "# In ra kết quả\n",
    "print(f\"Môn thi có nhiều bài thi đạt điểm 10 nhất là {subject} với {count} bài thi điểm 10.\")"
   ]
  },
  {
   "cell_type": "code",
   "execution_count": 0,
   "metadata": {
    "application/vnd.databricks.v1+cell": {
     "cellMetadata": {
      "byteLimit": 2048000,
      "rowLimit": 10000
     },
     "inputWidgets": {},
     "nuid": "d1a76d09-4650-411e-8923-493587994f67",
     "showTitle": false,
     "title": ""
    }
   },
   "outputs": [
    {
     "output_type": "stream",
     "name": "stdout",
     "output_type": "stream",
     "text": [
      "Sinh viên có điểm trung bình cao nhất có số báo danh: 02065027 và điểm trung bình: 9.783333333333333\n"
     ]
    }
   ],
   "source": [
    "rdd1 = rdd.filter(lambda s: s[0] != 'T').map(fsplit)\n",
    "def average_score(student):\n",
    "    total_score = sum(value for key, value in student.items() if key not in ['TT', 'SBD'])\n",
    "    total_subjects = len(student) - 2 \n",
    "    return total_score / total_subjects\n",
    "top_scoring_student = rdd.max(key=average_score)\n",
    "print(f\"Sinh viên có điểm trung bình cao nhất có số báo danh: {top_scoring_student['SBD']} và điểm trung bình: {average_score(top_scoring_student)}\")"
   ]
  },
  {
   "cell_type": "code",
   "execution_count": 0,
   "metadata": {
    "application/vnd.databricks.v1+cell": {
     "cellMetadata": {
      "byteLimit": 2048000,
      "rowLimit": 10000
     },
     "inputWidgets": {},
     "nuid": "5b8085c8-fb82-478c-bc18-147d8b3685d1",
     "showTitle": false,
     "title": ""
    }
   },
   "outputs": [
    {
     "output_type": "stream",
     "name": "stdout",
     "output_type": "stream",
     "text": [
      "1 môn: 323 thí sinh\n2 môn: 589 thí sinh\n3 môn: 29024 thí sinh\n4 môn: 71432 thí sinh\n5 môn: 7935 thí sinh\n6 môn: 761182 thí sinh\n9 môn: 1 thí sinh\n"
     ]
    }
   ],
   "source": [
    "# Tạo RDD chứa số môn thi của từng thí sinh\n",
    "rdd_mon_thi = rdd.map(lambda student: sum(1 for key in student.keys() if key not in ['TT', 'SBD']))\n",
    "\n",
    "# Đếm số lượng thí sinh cho từng số môn thi\n",
    "thi_sinh_theo_mon_thi = rdd_mon_thi.countByValue()\n",
    "\n",
    "# In kết quả\n",
    "for so_mon_thi, so_thi_sinh in sorted(thi_sinh_theo_mon_thi.items()):\n",
    "    print(f\"{so_mon_thi} môn: {so_thi_sinh} thí sinh\")"
   ]
  },
  {
   "cell_type": "code",
   "execution_count": 0,
   "metadata": {
    "application/vnd.databricks.v1+cell": {
     "cellMetadata": {
      "byteLimit": 2048000,
      "rowLimit": 10000
     },
     "inputWidgets": {},
     "nuid": "f6ba59e4-a577-40a9-a092-b68d1982f912",
     "showTitle": false,
     "title": ""
    }
   },
   "outputs": [
    {
     "output_type": "stream",
     "name": "stdout",
     "output_type": "stream",
     "text": [
      "Trung bình tổ hợp xã hội: 6.62\nTrung bình tổ hợp tự nhiên: 6.34\n"
     ]
    }
   ],
   "source": [
    "#Tính điểm trung bình bài thi Tự nhiên, bài thi Xã hội. Biết rằng điểm bài thi tổ hợp là tổng điểm thi 3 môn thành phần của bài thi đó.\n",
    "diem_to_hop = rdd.flatMap(lambda h: [(x,y) for x, y in h.items()])\n",
    "rdd1 = diem_to_hop.filter(lambda t: t[0] in ['GDCD', 'Dia', 'Su']).map(lambda x: x[1])\n",
    "tbxh = rdd1.mean()\n",
    "rdd2 = diem_to_hop.filter(lambda t: t[0] in ['Li', 'Hoa', 'Sinh']).map(lambda x: x[1])\n",
    "tbtn = rdd2.mean()\n",
    "print(\"Trung bình tổ hợp xã hội:\",round(tbxh,2))\n",
    "print(\"Trung bình tổ hợp tự nhiên:\", round(tbtn,2))"
   ]
  },
  {
   "cell_type": "code",
   "execution_count": 0,
   "metadata": {
    "application/vnd.databricks.v1+cell": {
     "cellMetadata": {
      "byteLimit": 2048000,
      "rowLimit": 10000
     },
     "inputWidgets": {},
     "nuid": "77b1e2d3-5100-4b59-99dd-1fabe328914b",
     "showTitle": false,
     "title": ""
    }
   },
   "outputs": [
    {
     "output_type": "stream",
     "name": "stdout",
     "output_type": "stream",
     "text": [
      "Trung bình điểm bài thi Tự nhiên: 18.73\nTrung bình điểm bài thi Xã hội: 18.69\n"
     ]
    }
   ],
   "source": [
    "# Tính điểm bài thi tổ hợp Tự nhiên (Hoa, Li, Sinh)\n",
    "rdd_tn = rdd.map(lambda x: x.get('Hoa', 0) + x.get('Li', 0) + x.get('Sinh', 0))\n",
    "rdd_tn = rdd_tn.filter(lambda x: x != 0)\n",
    "trung_binh_tn = rdd_tn.mean()\n",
    "\n",
    "# Tính điểm bài thi tổ hợp Xã hội (GDCD, Địa, Sử)\n",
    "rdd_xh = rdd.map(lambda x: x.get('GDCD', 0) + x.get('Dia', 0) + x.get('Su', 0))\n",
    "rdd_xh = rdd_xh.filter(lambda x: x != 0)\n",
    "trung_binh_xh = rdd_xh.mean()\n",
    "\n",
    "print(\"Trung bình điểm bài thi Tự nhiên:\", round(trung_binh_tn,2))\n",
    "print(\"Trung bình điểm bài thi Xã hội:\", round(trung_binh_xh,2))"
   ]
  },
  {
   "cell_type": "code",
   "execution_count": 0,
   "metadata": {
    "application/vnd.databricks.v1+cell": {
     "cellMetadata": {
      "byteLimit": 2048000,
      "rowLimit": 10000
     },
     "inputWidgets": {},
     "nuid": "e8258098-3721-4661-b70e-ed430df8d94e",
     "showTitle": false,
     "title": ""
    }
   },
   "outputs": [
    {
     "output_type": "display_data",
     "data": {
      "text/plain": [
       "\u001B[0;31m---------------------------------------------------------------------------\u001B[0m\n",
       "\u001B[0;31mAttributeError\u001B[0m                            Traceback (most recent call last)\n",
       "File \u001B[0;32m<command-1247489471686340>:5\u001B[0m\n",
       "\u001B[1;32m      2\u001B[0m \u001B[38;5;28;01mimport\u001B[39;00m \u001B[38;5;21;01mmatplotlib\u001B[39;00m\u001B[38;5;21;01m.\u001B[39;00m\u001B[38;5;21;01mpyplot\u001B[39;00m \u001B[38;5;28;01mas\u001B[39;00m \u001B[38;5;21;01mplt\u001B[39;00m\n",
       "\u001B[1;32m      4\u001B[0m \u001B[38;5;66;03m# Tạo DataFrame chứa số lượng bài thi Tự nhiên và Xã hội theo từng điểm\u001B[39;00m\n",
       "\u001B[0;32m----> 5\u001B[0m result_df \u001B[38;5;241m=\u001B[39m df\u001B[38;5;241m.\u001B[39mfilter((col(\u001B[38;5;124m'\u001B[39m\u001B[38;5;124mmon_thi\u001B[39m\u001B[38;5;124m'\u001B[39m) \u001B[38;5;241m==\u001B[39m \u001B[38;5;124m'\u001B[39m\u001B[38;5;124mTu nhien\u001B[39m\u001B[38;5;124m'\u001B[39m) \u001B[38;5;241m|\u001B[39m (col(\u001B[38;5;124m'\u001B[39m\u001B[38;5;124mmon_thi\u001B[39m\u001B[38;5;124m'\u001B[39m) \u001B[38;5;241m==\u001B[39m \u001B[38;5;124m'\u001B[39m\u001B[38;5;124mXa hoi\u001B[39m\u001B[38;5;124m'\u001B[39m))\u001B[38;5;241m.\u001B[39mgroupBy(\u001B[38;5;124m'\u001B[39m\u001B[38;5;124mmon_thi\u001B[39m\u001B[38;5;124m'\u001B[39m, \u001B[38;5;124m'\u001B[39m\u001B[38;5;124mdiem\u001B[39m\u001B[38;5;124m'\u001B[39m)\u001B[38;5;241m.\u001B[39magg({\u001B[38;5;124m'\u001B[39m\u001B[38;5;124mso_bao_danh\u001B[39m\u001B[38;5;124m'\u001B[39m: \u001B[38;5;124m'\u001B[39m\u001B[38;5;124mcount\u001B[39m\u001B[38;5;124m'\u001B[39m})\u001B[38;5;241m.\u001B[39mtoPandas()\n",
       "\u001B[1;32m      7\u001B[0m \u001B[38;5;66;03m# Vẽ biểu đồ\u001B[39;00m\n",
       "\u001B[1;32m      8\u001B[0m plt\u001B[38;5;241m.\u001B[39mfigure(figsize\u001B[38;5;241m=\u001B[39m(\u001B[38;5;241m10\u001B[39m, \u001B[38;5;241m6\u001B[39m))\n",
       "\n",
       "\u001B[0;31mAttributeError\u001B[0m: 'str' object has no attribute 'filter'"
      ]
     },
     "metadata": {
      "application/vnd.databricks.v1+output": {
       "arguments": {},
       "data": "\u001B[0;31m---------------------------------------------------------------------------\u001B[0m\n\u001B[0;31mAttributeError\u001B[0m                            Traceback (most recent call last)\nFile \u001B[0;32m<command-1247489471686340>:5\u001B[0m\n\u001B[1;32m      2\u001B[0m \u001B[38;5;28;01mimport\u001B[39;00m \u001B[38;5;21;01mmatplotlib\u001B[39;00m\u001B[38;5;21;01m.\u001B[39;00m\u001B[38;5;21;01mpyplot\u001B[39;00m \u001B[38;5;28;01mas\u001B[39;00m \u001B[38;5;21;01mplt\u001B[39;00m\n\u001B[1;32m      4\u001B[0m \u001B[38;5;66;03m# Tạo DataFrame chứa số lượng bài thi Tự nhiên và Xã hội theo từng điểm\u001B[39;00m\n\u001B[0;32m----> 5\u001B[0m result_df \u001B[38;5;241m=\u001B[39m df\u001B[38;5;241m.\u001B[39mfilter((col(\u001B[38;5;124m'\u001B[39m\u001B[38;5;124mmon_thi\u001B[39m\u001B[38;5;124m'\u001B[39m) \u001B[38;5;241m==\u001B[39m \u001B[38;5;124m'\u001B[39m\u001B[38;5;124mTu nhien\u001B[39m\u001B[38;5;124m'\u001B[39m) \u001B[38;5;241m|\u001B[39m (col(\u001B[38;5;124m'\u001B[39m\u001B[38;5;124mmon_thi\u001B[39m\u001B[38;5;124m'\u001B[39m) \u001B[38;5;241m==\u001B[39m \u001B[38;5;124m'\u001B[39m\u001B[38;5;124mXa hoi\u001B[39m\u001B[38;5;124m'\u001B[39m))\u001B[38;5;241m.\u001B[39mgroupBy(\u001B[38;5;124m'\u001B[39m\u001B[38;5;124mmon_thi\u001B[39m\u001B[38;5;124m'\u001B[39m, \u001B[38;5;124m'\u001B[39m\u001B[38;5;124mdiem\u001B[39m\u001B[38;5;124m'\u001B[39m)\u001B[38;5;241m.\u001B[39magg({\u001B[38;5;124m'\u001B[39m\u001B[38;5;124mso_bao_danh\u001B[39m\u001B[38;5;124m'\u001B[39m: \u001B[38;5;124m'\u001B[39m\u001B[38;5;124mcount\u001B[39m\u001B[38;5;124m'\u001B[39m})\u001B[38;5;241m.\u001B[39mtoPandas()\n\u001B[1;32m      7\u001B[0m \u001B[38;5;66;03m# Vẽ biểu đồ\u001B[39;00m\n\u001B[1;32m      8\u001B[0m plt\u001B[38;5;241m.\u001B[39mfigure(figsize\u001B[38;5;241m=\u001B[39m(\u001B[38;5;241m10\u001B[39m, \u001B[38;5;241m6\u001B[39m))\n\n\u001B[0;31mAttributeError\u001B[0m: 'str' object has no attribute 'filter'",
       "errorSummary": "<span class='ansi-red-fg'>AttributeError</span>: 'str' object has no attribute 'filter'",
       "errorTraceType": "ansi",
       "metadata": {},
       "type": "ipynbError"
      }
     },
     "output_type": "display_data"
    }
   ],
   "source": [
    "#Vẽ biểu đồ biểu diễn số lượng bài thi Tự nhiên và Xã hội theo từng mứ điểm\n"
   ]
  }
 ],
 "metadata": {
  "application/vnd.databricks.v1+notebook": {
   "dashboards": [],
   "language": "python",
   "notebookMetadata": {
    "pythonIndentUnit": 4
   },
   "notebookName": "Baithuchanh4",
   "widgets": {}
  }
 },
 "nbformat": 4,
 "nbformat_minor": 0
}
