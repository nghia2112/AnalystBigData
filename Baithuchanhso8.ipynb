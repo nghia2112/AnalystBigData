{
 "cells": [
  {
   "cell_type": "code",
   "execution_count": 0,
   "metadata": {
    "application/vnd.databricks.v1+cell": {
     "cellMetadata": {
      "byteLimit": 2048000,
      "rowLimit": 10000
     },
     "inputWidgets": {},
     "nuid": "31675393-0113-4631-bc85-0c6adf35dc19",
     "showTitle": false,
     "title": ""
    }
   },
   "outputs": [],
   "source": [
    "#dbfs:/FileStore/shared_uploads/danghia2002@gmail.com/Churn_Modelling.csv"
   ]
  },
  {
   "cell_type": "code",
   "execution_count": 0,
   "metadata": {
    "application/vnd.databricks.v1+cell": {
     "cellMetadata": {
      "byteLimit": 2048000,
      "rowLimit": 10000
     },
     "inputWidgets": {},
     "nuid": "9b204599-afa9-4873-a539-06facd72e625",
     "showTitle": false,
     "title": ""
    }
   },
   "outputs": [],
   "source": [
    "#Bài 1: Lựa chọn đặc trưng\n",
    "from pyspark.ml.feature import StringIndexer, OneHotEncoder, VectorAssembler\n",
    "from pyspark.sql.types import FloatType\n",
    "from pyspark.ml.classification import LogisticRegression\n",
    "from pyspark.ml.evaluation import BinaryClassificationEvaluator\n",
    "\n",
    "#Đọc dữ liệu từ file CSV\n",
    "data = spark.read.csv(\"dbfs:/FileStore/shared_uploads/danghia2002@gmail.com/Churn_Modelling.csv\", header=True, inferSchema=True)\n"
   ]
  },
  {
   "cell_type": "code",
   "execution_count": 0,
   "metadata": {
    "application/vnd.databricks.v1+cell": {
     "cellMetadata": {
      "byteLimit": 2048000,
      "rowLimit": 10000
     },
     "inputWidgets": {},
     "nuid": "52b532d6-09c9-4374-b339-409b9edbf75d",
     "showTitle": false,
     "title": ""
    }
   },
   "outputs": [
    {
     "output_type": "stream",
     "name": "stdout",
     "output_type": "stream",
     "text": [
      "root\n |-- RowNumber: integer (nullable = true)\n |-- CustomerId: integer (nullable = true)\n |-- Surname: string (nullable = true)\n |-- CreditScore: integer (nullable = true)\n |-- Geography: string (nullable = true)\n |-- Gender: string (nullable = true)\n |-- Age: integer (nullable = true)\n |-- Tenure: integer (nullable = true)\n |-- Balance: double (nullable = true)\n |-- NumOfProducts: integer (nullable = true)\n |-- HasCrCard: integer (nullable = true)\n |-- IsActiveMember: integer (nullable = true)\n |-- EstimatedSalary: double (nullable = true)\n |-- Exited: integer (nullable = true)\n\n"
     ]
    }
   ],
   "source": [
    "data.printSchema()"
   ]
  },
  {
   "cell_type": "code",
   "execution_count": 0,
   "metadata": {
    "application/vnd.databricks.v1+cell": {
     "cellMetadata": {
      "byteLimit": 2048000,
      "rowLimit": 10000
     },
     "inputWidgets": {},
     "nuid": "1d322060-7578-4128-a283-3be4f85360c0",
     "showTitle": false,
     "title": ""
    }
   },
   "outputs": [
    {
     "output_type": "stream",
     "name": "stdout",
     "output_type": "stream",
     "text": [
      "+-------+------------------+-----------------+-------+-----------------+---------+------+------------------+------------------+-----------------+------------------+-------------------+-------------------+-----------------+-------------------+\n|summary|         RowNumber|       CustomerId|Surname|      CreditScore|Geography|Gender|               Age|            Tenure|          Balance|     NumOfProducts|          HasCrCard|     IsActiveMember|  EstimatedSalary|             Exited|\n+-------+------------------+-----------------+-------+-----------------+---------+------+------------------+------------------+-----------------+------------------+-------------------+-------------------+-----------------+-------------------+\n|  count|             10000|            10000|  10000|            10000|    10000| 10000|             10000|             10000|            10000|             10000|              10000|              10000|            10000|              10000|\n|   mean|            5000.5|  1.56909405694E7|   null|         650.5288|     null|  null|           38.9218|            5.0128|76485.88928799961|            1.5302|             0.7055|             0.5151|100090.2398809998|             0.2037|\n| stddev|2886.8956799071675|71936.18612274907|   null|96.65329873613035|     null|  null|10.487806451704587|2.8921743770496837|62397.40520238599|0.5816543579989917|0.45584046447513327|0.49979692845891815|57510.49281769821|0.40276858399486065|\n|    min|                 1|         15565701|  Abazu|              350|   France|Female|                18|                 0|              0.0|                 1|                  0|                  0|            11.58|                  0|\n|    max|             10000|         15815690| Zuyeva|              850|    Spain|  Male|                92|                10|        250898.09|                 4|                  1|                  1|        199992.48|                  1|\n+-------+------------------+-----------------+-------+-----------------+---------+------+------------------+------------------+-----------------+------------------+-------------------+-------------------+-----------------+-------------------+\n\n"
     ]
    }
   ],
   "source": [
    "#Thống kê mô tả\n",
    "data.describe().show()"
   ]
  },
  {
   "cell_type": "code",
   "execution_count": 0,
   "metadata": {
    "application/vnd.databricks.v1+cell": {
     "cellMetadata": {
      "byteLimit": 2048000,
      "rowLimit": 10000
     },
     "inputWidgets": {},
     "nuid": "e62c44a3-fc20-4d95-aa16-97b273870c22",
     "showTitle": false,
     "title": ""
    }
   },
   "outputs": [],
   "source": [
    "#Trực quan hóa\n",
    "import matplotlib.pyplot as plt\n",
    "import seaborn as sns"
   ]
  },
  {
   "cell_type": "code",
   "execution_count": 0,
   "metadata": {
    "application/vnd.databricks.v1+cell": {
     "cellMetadata": {
      "byteLimit": 2048000,
      "rowLimit": 10000
     },
     "inputWidgets": {},
     "nuid": "564d2b05-9c69-43fc-bb1b-3500d06e9081",
     "showTitle": false,
     "title": ""
    }
   },
   "outputs": [
    {
     "output_type": "stream",
     "name": "stdout",
     "output_type": "stream",
     "text": [
      "+------+-----+\n|Exited|count|\n+------+-----+\n|     0| 7963|\n|     1| 2037|\n+------+-----+\n\n"
     ]
    }
   ],
   "source": [
    "#Đếm số lượng khách hàng rời đi và chưa rời đi\n",
    "churn_count = data.groupBy(\"Exited\").count().orderBy(\"Exited\")\n",
    "churn_count.show()"
   ]
  },
  {
   "cell_type": "code",
   "execution_count": 0,
   "metadata": {
    "application/vnd.databricks.v1+cell": {
     "cellMetadata": {
      "byteLimit": 2048000,
      "rowLimit": 10000
     },
     "inputWidgets": {},
     "nuid": "5f0c0a0a-0df6-402d-835f-0dfa60f1ec50",
     "showTitle": false,
     "title": ""
    }
   },
   "outputs": [
    {
     "output_type": "stream",
     "name": "stdout",
     "output_type": "stream",
     "text": [
      "Out[28]: Text(0.5, 1.0, 'Churn Count')"
     ]
    },
    {
     "output_type": "display_data",
     "data": {
      "image/png": "[encoded data removed]"
     },
     "metadata": {
      "application/vnd.databricks.v1+output": {
       "addedWidgets": {},
       "arguments": {},
       "data": "data:image/png;base64,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\n",
       "datasetInfos": [],
       "metadata": {},
       "removedWidgets": [],
       "type": "image"
      }
     },
     "output_type": "display_data"
    }
   ],
   "source": [
    "#Trực quan hóa số lượng khách hàng rời đi và chưa rời đi\n",
    "churn_count_pd = churn_count.toPandas()\n",
    "churn_count_pd.plot(kind = \"bar\", x = 'Exited', y = 'count')\n",
    "plt.xlabel(\"Excited\")\n",
    "plt.ylabel(\"Count\")\n",
    "plt.title(\"Churn Count\")\n"
   ]
  },
  {
   "cell_type": "code",
   "execution_count": 0,
   "metadata": {
    "application/vnd.databricks.v1+cell": {
     "cellMetadata": {
      "byteLimit": 2048000,
      "rowLimit": 10000
     },
     "inputWidgets": {},
     "nuid": "22e1641d-8651-43a8-823a-f32c8022a939",
     "showTitle": false,
     "title": ""
    }
   },
   "outputs": [
    {
     "output_type": "stream",
     "name": "stdout",
     "output_type": "stream",
     "text": [
      "+---------+-----+\n|Geography|count|\n+---------+-----+\n|  Germany| 2509|\n|   France| 5014|\n|    Spain| 2477|\n+---------+-----+\n\n"
     ]
    }
   ],
   "source": [
    "#Đếm số lượng khách hàng theo quốc gia\n",
    "country_count = data.groupBy(\"Geography\").count()\n",
    "country_count.show()"
   ]
  },
  {
   "cell_type": "code",
   "execution_count": 0,
   "metadata": {
    "application/vnd.databricks.v1+cell": {
     "cellMetadata": {
      "byteLimit": 2048000,
      "rowLimit": 10000
     },
     "inputWidgets": {},
     "nuid": "646ce18d-1065-4268-a756-f74f1122cf85",
     "showTitle": false,
     "title": ""
    }
   },
   "outputs": [
    {
     "output_type": "stream",
     "name": "stdout",
     "output_type": "stream",
     "text": [
      "Out[30]: Text(0.5, 1.0, 'Number of customer by Geography')"
     ]
    },
    {
     "output_type": "display_data",
     "data": {
      "image/png": "[encoded data removed]"
     },
     "metadata": {
      "application/vnd.databricks.v1+output": {
       "addedWidgets": {},
       "arguments": {},
       "data": "data:image/png;base64,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\n",
       "datasetInfos": [],
       "metadata": {},
       "removedWidgets": [],
       "type": "image"
      }
     },
     "output_type": "display_data"
    }
   ],
   "source": [
    "#Trực quan hóa số lượng khách hàng\n",
    "country_count_pd = country_count.toPandas()\n",
    "country_count_pd.plot(kind=\"bar\", x = \"Geography\", y = \"count\")\n",
    "plt.xlabel(\"Geography\")\n",
    "plt.ylabel(\"Count\")\n",
    "plt.title(\"Number of customer by Geography\")"
   ]
  },
  {
   "cell_type": "code",
   "execution_count": 0,
   "metadata": {
    "application/vnd.databricks.v1+cell": {
     "cellMetadata": {
      "byteLimit": 2048000,
      "rowLimit": 10000
     },
     "inputWidgets": {},
     "nuid": "d320d4b2-aba2-49aa-99ac-5cf0055ad729",
     "showTitle": false,
     "title": ""
    }
   },
   "outputs": [
    {
     "output_type": "display_data",
     "data": {
      "image/png": "[encoded data removed]"
     },
     "metadata": {
      "application/vnd.databricks.v1+output": {
       "addedWidgets": {},
       "arguments": {},
       "data": "data:image/png;base64,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\n",
       "datasetInfos": [],
       "metadata": {},
       "removedWidgets": [],
       "type": "image"
      }
     },
     "output_type": "display_data"
    }
   ],
   "source": [
    "country_counts = data.groupBy(\"Geography\").count().toPandas()\n",
    "sns.barplot(x=\"Geography\", y=\"count\", data=country_counts)\n",
    "plt.title(\"Số lượng khách hàng theo quốc gia\")\n",
    "plt.show()"
   ]
  },
  {
   "cell_type": "code",
   "execution_count": 0,
   "metadata": {
    "application/vnd.databricks.v1+cell": {
     "cellMetadata": {
      "byteLimit": 2048000,
      "rowLimit": 10000
     },
     "inputWidgets": {},
     "nuid": "fb1a954f-ec7c-47c1-9c1e-471bfd617f21",
     "showTitle": false,
     "title": ""
    }
   },
   "outputs": [
    {
     "output_type": "display_data",
     "data": {
      "image/png": "[encoded data removed]"
     },
     "metadata": {
      "application/vnd.databricks.v1+output": {
       "addedWidgets": {},
       "arguments": {},
       "data": "data:image/png;base64,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\n",
       "datasetInfos": [],
       "metadata": {},
       "removedWidgets": [],
       "type": "image"
      }
     },
     "output_type": "display_data"
    }
   ],
   "source": [
    "#Trực quan hóa tỷ lệ rời đi theo quốc gia\n",
    "gender_churn = data.groupBy(\"Geography\", \"Exited\").count().toPandas()\n",
    "sns.barplot(x=\"Geography\", y=\"count\", hue=\"Exited\", data=gender_churn)\n",
    "plt.title(\"Tỷ lệ rời đi theo quốc gia\")\n",
    "plt.show()"
   ]
  },
  {
   "cell_type": "code",
   "execution_count": 0,
   "metadata": {
    "application/vnd.databricks.v1+cell": {
     "cellMetadata": {
      "byteLimit": 2048000,
      "rowLimit": 10000
     },
     "inputWidgets": {},
     "nuid": "b1323ecb-f1fd-428c-a83b-91b4af60927b",
     "showTitle": false,
     "title": ""
    }
   },
   "outputs": [
    {
     "output_type": "stream",
     "name": "stdout",
     "output_type": "stream",
     "text": [
      "Out[33]: <function matplotlib.pyplot.show(close=None, block=None)>"
     ]
    },
    {
     "output_type": "display_data",
     "data": {
      "image/png": "[encoded data removed]"
     },
     "metadata": {
      "application/vnd.databricks.v1+output": {
       "addedWidgets": {},
       "arguments": {},
       "data": "data:image/png;base64,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\n",
       "datasetInfos": [],
       "metadata": {},
       "removedWidgets": [],
       "type": "image"
      }
     },
     "output_type": "display_data"
    }
   ],
   "source": [
    "#Loại bỏ các giá trị NaN và chọn cột \"Age\"\n",
    "age_distribution = data.select(\"Age\").na.drop().toPandas()\n",
    "\n",
    "#Sử dụng histplot thay vì hist để sử dụng hỗ trợ mới hơn từ Seaborn\n",
    "sns.histplot(data=age_distribution, x=\"Age\", bins=30, kde=True)\n",
    "plt.title(\"Phân phối tuổi của khách hàng\")\n",
    "plt.show\n"
   ]
  },
  {
   "cell_type": "code",
   "execution_count": 0,
   "metadata": {
    "application/vnd.databricks.v1+cell": {
     "cellMetadata": {
      "byteLimit": 2048000,
      "rowLimit": 10000
     },
     "inputWidgets": {},
     "nuid": "dddc9e12-1c43-413c-bf42-0d460a01ac10",
     "showTitle": false,
     "title": ""
    }
   },
   "outputs": [
    {
     "output_type": "stream",
     "name": "stdout",
     "output_type": "stream",
     "text": [
      "root\n |-- CreditScore: integer (nullable = true)\n |-- Geography: string (nullable = true)\n |-- Gender: string (nullable = true)\n |-- Age: integer (nullable = true)\n |-- Tenure: integer (nullable = true)\n |-- Balance: double (nullable = true)\n |-- NumOfProducts: integer (nullable = true)\n |-- HasCrCard: integer (nullable = true)\n |-- IsActiveMember: integer (nullable = true)\n |-- EstimatedSalary: double (nullable = true)\n |-- Exited: integer (nullable = true)\n\n"
     ]
    }
   ],
   "source": [
    "#Tiền xử lý dữ liệu và tạo cột features\n",
    "#Loại bỏ cột RowNumber, CustomerID\n",
    "data_processed = data.drop('RowNumber', 'CustomerID', 'Surname')\n",
    "data_processed.printSchema()"
   ]
  },
  {
   "cell_type": "code",
   "execution_count": 0,
   "metadata": {
    "application/vnd.databricks.v1+cell": {
     "cellMetadata": {
      "byteLimit": 2048000,
      "rowLimit": 10000
     },
     "inputWidgets": {},
     "nuid": "43d4cb5e-74f0-4dc7-80dd-fe68ee6491de",
     "showTitle": false,
     "title": ""
    }
   },
   "outputs": [
    {
     "output_type": "stream",
     "name": "stdout",
     "output_type": "stream",
     "text": [
      "+-----------+---------+------+---+------+---------+-------------+---------+--------------+---------------+------+---------------+------------+\n|CreditScore|Geography|Gender|Age|Tenure|  Balance|NumOfProducts|HasCrCard|IsActiveMember|EstimatedSalary|Exited|Geography_index|Gender_index|\n+-----------+---------+------+---+------+---------+-------------+---------+--------------+---------------+------+---------------+------------+\n|        619|   France|Female| 42|     2|      0.0|            1|        1|             1|      101348.88|     1|            0.0|         1.0|\n|        608|    Spain|Female| 41|     1| 83807.86|            1|        0|             1|      112542.58|     0|            2.0|         1.0|\n|        502|   France|Female| 42|     8| 159660.8|            3|        1|             0|      113931.57|     1|            0.0|         1.0|\n|        699|   France|Female| 39|     1|      0.0|            2|        0|             0|       93826.63|     0|            0.0|         1.0|\n|        850|    Spain|Female| 43|     2|125510.82|            1|        1|             1|        79084.1|     0|            2.0|         1.0|\n|        645|    Spain|  Male| 44|     8|113755.78|            2|        1|             0|      149756.71|     1|            2.0|         0.0|\n|        822|   France|  Male| 50|     7|      0.0|            2|        1|             1|        10062.8|     0|            0.0|         0.0|\n|        376|  Germany|Female| 29|     4|115046.74|            4|        1|             0|      119346.88|     1|            1.0|         1.0|\n|        501|   France|  Male| 44|     4|142051.07|            2|        0|             1|        74940.5|     0|            0.0|         0.0|\n|        684|   France|  Male| 27|     2|134603.88|            1|        1|             1|       71725.73|     0|            0.0|         0.0|\n|        528|   France|  Male| 31|     6|102016.72|            2|        0|             0|       80181.12|     0|            0.0|         0.0|\n|        497|    Spain|  Male| 24|     3|      0.0|            2|        1|             0|       76390.01|     0|            2.0|         0.0|\n|        476|   France|Female| 34|    10|      0.0|            2|        1|             0|       26260.98|     0|            0.0|         1.0|\n|        549|   France|Female| 25|     5|      0.0|            2|        0|             0|      190857.79|     0|            0.0|         1.0|\n|        635|    Spain|Female| 35|     7|      0.0|            2|        1|             1|       65951.65|     0|            2.0|         1.0|\n|        616|  Germany|  Male| 45|     3|143129.41|            2|        0|             1|       64327.26|     0|            1.0|         0.0|\n|        653|  Germany|  Male| 58|     1|132602.88|            1|        1|             0|        5097.67|     1|            1.0|         0.0|\n|        549|    Spain|Female| 24|     9|      0.0|            2|        1|             1|       14406.41|     0|            2.0|         1.0|\n|        587|    Spain|  Male| 45|     6|      0.0|            1|        0|             0|      158684.81|     0|            2.0|         0.0|\n|        726|   France|Female| 24|     6|      0.0|            2|        1|             1|       54724.03|     0|            0.0|         1.0|\n+-----------+---------+------+---+------+---------+-------------+---------+--------------+---------------+------+---------------+------------+\nonly showing top 20 rows\n\n"
     ]
    }
   ],
   "source": [
    "#Chuyển đổi giá trị chuỗi thành số\n",
    "string_columns = [\"Geography\", \"Gender\"]\n",
    "indexers = [StringIndexer(inputCol=col, outputCol=col+\"_index\").fit(data) for col in string_columns]\n",
    "data_transformed = data_processed\n",
    "for indexer in indexers:\n",
    "    data_transformed = indexer.transform(data_transformed)\n",
    "\n",
    "#Hiển thị DataFrame sau khi chuyển đổi giá trị chuỗi thành số\n",
    "data_transformed.show()\n"
   ]
  },
  {
   "cell_type": "code",
   "execution_count": 0,
   "metadata": {
    "application/vnd.databricks.v1+cell": {
     "cellMetadata": {
      "byteLimit": 2048000,
      "rowLimit": 10000
     },
     "inputWidgets": {},
     "nuid": "489169f0-3301-4f58-9bc9-4cd5694c6c39",
     "showTitle": false,
     "title": ""
    }
   },
   "outputs": [],
   "source": [
    "#Loại bỏ cột không cần thiết\n",
    "columns_to_drop = [\"RowNumber\", \"CustomerId\", \"Surname\"]\n",
    "data = data.drop(*columns_to_drop)\n"
   ]
  },
  {
   "cell_type": "code",
   "execution_count": 0,
   "metadata": {
    "application/vnd.databricks.v1+cell": {
     "cellMetadata": {
      "byteLimit": 2048000,
      "rowLimit": 10000
     },
     "inputWidgets": {},
     "nuid": "e868104c-d163-4db7-a7d3-df77ff0c2004",
     "showTitle": false,
     "title": ""
    }
   },
   "outputs": [],
   "source": [
    "\n",
    "#Chuyển đổi giá trị chuỗi thành số cho cột \"Geography\"\n",
    "geography_indexer = StringIndexer(inputCol=\"Geography\", outputCol=\"GeographyIndex\")\n",
    "data = geography_indexer.fit(data).transform(data)\n"
   ]
  },
  {
   "cell_type": "code",
   "execution_count": 0,
   "metadata": {
    "application/vnd.databricks.v1+cell": {
     "cellMetadata": {
      "byteLimit": 2048000,
      "rowLimit": 10000
     },
     "inputWidgets": {},
     "nuid": "407aefcb-2b9f-4651-bbdc-e4d709a29a3b",
     "showTitle": false,
     "title": ""
    }
   },
   "outputs": [],
   "source": [
    "\n",
    "#Chuyển đổi giá trị chuỗi thành số cho cột \"Gender\"\n",
    "gender_indexer = StringIndexer(inputCol=\"Gender\", outputCol=\"GenderIndex\")\n",
    "data = gender_indexer.fit(data).transform(data)\n"
   ]
  },
  {
   "cell_type": "code",
   "execution_count": 0,
   "metadata": {
    "application/vnd.databricks.v1+cell": {
     "cellMetadata": {
      "byteLimit": 2048000,
      "rowLimit": 10000
     },
     "inputWidgets": {},
     "nuid": "fa4b16c5-6eb6-42a3-86f2-d20ea2a23bcb",
     "showTitle": false,
     "title": ""
    }
   },
   "outputs": [],
   "source": [
    "\n",
    "#Chuyển đổi các cột số từ chuỗi thành số thực\n",
    "numeric_columns = [\"CreditScore\", \"Age\", \"Tenure\", \"Balance\", \"NumOfProducts\", \"HasCrCard\", \"IsActiveMember\", \"EstimatedSalary\", \"Exited\"]\n",
    "for col_name in numeric_columns:\n",
    "    data = data.withColumn(col_name, data[col_name].cast(FloatType()))\n"
   ]
  },
  {
   "cell_type": "code",
   "execution_count": 0,
   "metadata": {
    "application/vnd.databricks.v1+cell": {
     "cellMetadata": {
      "byteLimit": 2048000,
      "rowLimit": 10000
     },
     "inputWidgets": {},
     "nuid": "594e580b-e7fe-4525-8813-def04f3c8032",
     "showTitle": false,
     "title": ""
    }
   },
   "outputs": [
    {
     "output_type": "stream",
     "name": "stdout",
     "output_type": "stream",
     "text": [
      "root\n |-- CreditScore: float (nullable = true)\n |-- Geography: string (nullable = true)\n |-- Gender: string (nullable = true)\n |-- Age: float (nullable = true)\n |-- Tenure: float (nullable = true)\n |-- Balance: float (nullable = true)\n |-- NumOfProducts: float (nullable = true)\n |-- HasCrCard: float (nullable = true)\n |-- IsActiveMember: float (nullable = true)\n |-- EstimatedSalary: float (nullable = true)\n |-- Exited: float (nullable = true)\n |-- GeographyIndex: double (nullable = false)\n |-- GenderIndex: double (nullable = false)\n\n"
     ]
    }
   ],
   "source": [
    "\n",
    "#Hiển thị schema của DataFrame sau khi tiền xử lý\n",
    "data.printSchema()\n"
   ]
  },
  {
   "cell_type": "code",
   "execution_count": 0,
   "metadata": {
    "application/vnd.databricks.v1+cell": {
     "cellMetadata": {
      "byteLimit": 2048000,
      "rowLimit": 10000
     },
     "inputWidgets": {},
     "nuid": "cd57a298-1565-4e6c-ad4d-d8b17fed7ecd",
     "showTitle": false,
     "title": ""
    }
   },
   "outputs": [
    {
     "output_type": "stream",
     "name": "stdout",
     "output_type": "stream",
     "text": [
      "+------------------------------------------------------------------+------+\n|features                                                          |Exited|\n+------------------------------------------------------------------+------+\n|[0.0,1.0,619.0,42.0,2.0,0.0,1.0,1.0,1.0,101348.8828125]           |1.0   |\n|[2.0,1.0,608.0,41.0,1.0,83807.859375,1.0,0.0,1.0,112542.578125]   |0.0   |\n|[0.0,1.0,502.0,42.0,8.0,159660.796875,3.0,1.0,0.0,113931.5703125] |1.0   |\n|[0.0,1.0,699.0,39.0,1.0,0.0,2.0,0.0,0.0,93826.6328125]            |0.0   |\n|[2.0,1.0,850.0,43.0,2.0,125510.8203125,1.0,1.0,1.0,79084.1015625] |0.0   |\n|[2.0,0.0,645.0,44.0,8.0,113755.78125,2.0,1.0,0.0,149756.703125]   |1.0   |\n|[0.0,0.0,822.0,50.0,7.0,0.0,2.0,1.0,1.0,10062.7998046875]         |0.0   |\n|[1.0,1.0,376.0,29.0,4.0,115046.7421875,4.0,1.0,0.0,119346.8828125]|1.0   |\n|[0.0,0.0,501.0,44.0,4.0,142051.0625,2.0,0.0,1.0,74940.5]          |0.0   |\n|[0.0,0.0,684.0,27.0,2.0,134603.875,1.0,1.0,1.0,71725.7265625]     |0.0   |\n|[0.0,0.0,528.0,31.0,6.0,102016.71875,2.0,0.0,0.0,80181.1171875]   |0.0   |\n|[2.0,0.0,497.0,24.0,3.0,0.0,2.0,1.0,0.0,76390.0078125]            |0.0   |\n|[0.0,1.0,476.0,34.0,10.0,0.0,2.0,1.0,0.0,26260.98046875]          |0.0   |\n|[0.0,1.0,549.0,25.0,5.0,0.0,2.0,0.0,0.0,190857.796875]            |0.0   |\n|[2.0,1.0,635.0,35.0,7.0,0.0,2.0,1.0,1.0,65951.6484375]            |0.0   |\n|[1.0,0.0,616.0,45.0,3.0,143129.40625,2.0,0.0,1.0,64327.26171875]  |0.0   |\n|[1.0,0.0,653.0,58.0,1.0,132602.875,1.0,1.0,0.0,5097.669921875]    |1.0   |\n|[2.0,1.0,549.0,24.0,9.0,0.0,2.0,1.0,1.0,14406.41015625]           |0.0   |\n|[2.0,0.0,587.0,45.0,6.0,0.0,1.0,0.0,0.0,158684.8125]              |0.0   |\n|[0.0,1.0,726.0,24.0,6.0,0.0,2.0,1.0,1.0,54724.03125]              |0.0   |\n+------------------------------------------------------------------+------+\nonly showing top 20 rows\n\n"
     ]
    }
   ],
   "source": [
    "\n",
    "#Chuyển đổi các biến độc lập thành vector\n",
    "feature_columns = [\"GeographyIndex\", \"GenderIndex\"] + numeric_columns[:-1]\n",
    "assembler = VectorAssembler(inputCols=feature_columns, outputCol=\"features\")\n",
    "data = assembler.transform(data)\n",
    "#Hiển thị DataFrame sau khi chuyển đổi thành vector\n",
    "data.select(\"features\", \"Exited\").show(truncate=False)"
   ]
  },
  {
   "cell_type": "code",
   "execution_count": 0,
   "metadata": {
    "application/vnd.databricks.v1+cell": {
     "cellMetadata": {
      "byteLimit": 2048000,
      "rowLimit": 10000
     },
     "inputWidgets": {},
     "nuid": "434bdcb9-4790-4114-aa3f-b5218f8fe902",
     "showTitle": false,
     "title": ""
    }
   },
   "outputs": [],
   "source": [
    "#Chia dữ liệu train và test\n",
    "data_train, data_test = data.randomSplit([0.7, 0.3], seed=666)"
   ]
  },
  {
   "cell_type": "code",
   "execution_count": 0,
   "metadata": {
    "application/vnd.databricks.v1+cell": {
     "cellMetadata": {
      "byteLimit": 2048000,
      "rowLimit": 10000
     },
     "inputWidgets": {},
     "nuid": "72014fe1-6d87-40af-b786-5bacb25b612b",
     "showTitle": false,
     "title": ""
    }
   },
   "outputs": [],
   "source": [
    "#Tạo mô hình Logistic Regression\n",
    "lr = LogisticRegression(featuresCol=\"features\", labelCol=\"Exited\")\n",
    "\n",
    "#Huấn luyện mô hình trên tập huấn luyện\n",
    "lr_model = lr.fit(data_train)\n"
   ]
  },
  {
   "cell_type": "code",
   "execution_count": 0,
   "metadata": {
    "application/vnd.databricks.v1+cell": {
     "cellMetadata": {
      "byteLimit": 2048000,
      "rowLimit": 10000
     },
     "inputWidgets": {},
     "nuid": "f078cd68-d6ba-4d97-840a-c7ded7376d65",
     "showTitle": false,
     "title": ""
    }
   },
   "outputs": [
    {
     "output_type": "stream",
     "name": "stdout",
     "output_type": "stream",
     "text": [
      "+-----------+---------+------+----+------+---------+-------------+---------+--------------+---------------+------+--------------+-----------+--------------------+--------------------+--------------------+----------+\n|CreditScore|Geography|Gender| Age|Tenure|  Balance|NumOfProducts|HasCrCard|IsActiveMember|EstimatedSalary|Exited|GeographyIndex|GenderIndex|            features|       rawPrediction|         probability|prediction|\n+-----------+---------+------+----+------+---------+-------------+---------+--------------+---------------+------+--------------+-----------+--------------------+--------------------+--------------------+----------+\n|      365.0|  Germany|  Male|30.0|   0.0|127760.07|          1.0|      1.0|           0.0|       81537.85|   1.0|           1.0|        0.0|[1.0,0.0,365.0,30...|[1.50828809781497...|[0.81880736444886...|       0.0|\n|      373.0|   France|  Male|42.0|   7.0|      0.0|          1.0|      1.0|           0.0|       77786.37|   1.0|           0.0|        0.0|[0.0,0.0,373.0,42...|[1.33631295041609...|[0.79188295358197...|       0.0|\n|      405.0|   France|  Male|39.0|  10.0|      0.0|          1.0|      1.0|           0.0|      160810.84|   1.0|           0.0|        0.0|[0.0,0.0,405.0,39...|[1.55787236728154...|[0.82604783951781...|       0.0|\n|      411.0|   France|Female|35.0|   2.0|      0.0|          2.0|      1.0|           1.0|       93825.78|   0.0|           0.0|        1.0|[0.0,1.0,411.0,35...|[2.35067333204535...|[0.91298773269662...|       0.0|\n|      411.0|   France|Female|54.0|   9.0|      0.0|          1.0|      0.0|           1.0|       76621.49|   0.0|           0.0|        1.0|[0.0,1.0,411.0,54...|[0.96317939553724...|[0.72375792128805...|       0.0|\n|      413.0|  Germany|  Male|39.0|   1.0|130969.77|          2.0|      1.0|           1.0|       158891.8|   0.0|           1.0|        0.0|[1.0,0.0,413.0,39...|[1.89841487598760...|[0.86971201567691...|       0.0|\n|      413.0|    Spain|  Male|35.0|   2.0|      0.0|          2.0|      1.0|           1.0|       60972.84|   0.0|           2.0|        0.0|[2.0,0.0,413.0,35...|[2.86272598919624...|[0.94597278960725...|       0.0|\n|      415.0|   France|  Male|32.0|   5.0| 145807.6|          1.0|      1.0|           1.0|        3064.65|   0.0|           0.0|        0.0|[0.0,0.0,415.0,32...|[2.46156290997163...|[0.92140292267968...|       0.0|\n|      419.0|    Spain|Female|27.0|   2.0|121580.42|          1.0|      0.0|           1.0|      134720.52|   0.0|           2.0|        1.0|[2.0,1.0,419.0,27...|[2.22753167828149...|[0.90269476462053...|       0.0|\n|      420.0|  Germany|Female|31.0|   1.0|108377.75|          2.0|      1.0|           1.0|        9904.63|   0.0|           1.0|        1.0|[1.0,1.0,420.0,31...|[2.1041851512019,...|[0.89130928835651...|       0.0|\n|      422.0|   France|Female|33.0|   2.0|      0.0|          2.0|      1.0|           0.0|      102655.31|   0.0|           0.0|        1.0|[0.0,1.0,422.0,33...|[1.45358728531679...|[0.81054990681961...|       0.0|\n|      422.0|   France|  Male|41.0|   6.0|153238.88|          1.0|      1.0|           0.0|       11663.09|   0.0|           0.0|        0.0|[0.0,0.0,422.0,41...|[0.70793835033670...|[0.66994545066480...|       0.0|\n|      425.0|  Germany|  Male|40.0|   9.0| 166776.6|          2.0|      0.0|           1.0|      172646.88|   0.0|           1.0|        0.0|[1.0,0.0,425.0,40...|[1.69296938294647...|[0.84461426359449...|       0.0|\n|      427.0|   France|  Male|33.0|   8.0|      0.0|          1.0|      1.0|           1.0|       13858.95|   0.0|           0.0|        0.0|[0.0,0.0,427.0,33...|[3.13662006464849...|[0.95837826590758...|       0.0|\n|      427.0|   France|  Male|37.0|   5.0|      0.0|          2.0|      1.0|           1.0|       121485.1|   0.0|           0.0|        0.0|[0.0,0.0,427.0,37...|[2.79526158042532...|[0.94241923109515...|       0.0|\n|      429.0|   France|Female|27.0|   6.0|117307.44|          2.0|      1.0|           1.0|       24020.49|   0.0|           0.0|        1.0|[0.0,1.0,429.0,27...|[2.42208057663312...|[0.91849563510462...|       0.0|\n|      429.0|   France|  Male|24.0|   4.0| 95741.75|          1.0|      1.0|           0.0|       46170.75|   0.0|           0.0|        0.0|[0.0,0.0,429.0,24...|[2.24525621913826...|[0.90424056010657...|       0.0|\n|      430.0|   France|Female|33.0|   8.0|      0.0|          1.0|      1.0|           1.0|       69759.91|   0.0|           0.0|        1.0|[0.0,1.0,430.0,33...|[2.53006475646176...|[0.92622277859699...|       0.0|\n|      430.0|   France|Female|60.0|   7.0| 73937.02|          1.0|      1.0|           0.0|      161937.62|   1.0|           0.0|        1.0|[0.0,1.0,430.0,60...|[-0.9541572595814...|[0.27804953252156...|       1.0|\n|      430.0|  Germany|Female|66.0|   6.0|135392.31|          2.0|      1.0|           1.0|      172852.06|   1.0|           1.0|        1.0|[1.0,1.0,430.0,66...|[-0.6915153990327...|[0.33369605001573...|       1.0|\n+-----------+---------+------+----+------+---------+-------------+---------+--------------+---------------+------+--------------+-----------+--------------------+--------------------+--------------------+----------+\nonly showing top 20 rows\n\n"
     ]
    }
   ],
   "source": [
    "#Dự đoán trên tập kiểm tra\n",
    "predictions = lr_model.transform(data_test)\n",
    "predictions.show()"
   ]
  },
  {
   "cell_type": "code",
   "execution_count": 0,
   "metadata": {
    "application/vnd.databricks.v1+cell": {
     "cellMetadata": {
      "byteLimit": 2048000,
      "rowLimit": 10000
     },
     "inputWidgets": {},
     "nuid": "102366d0-5a14-42ca-b761-af2b0fc20723",
     "showTitle": false,
     "title": ""
    }
   },
   "outputs": [
    {
     "output_type": "stream",
     "name": "stdout",
     "output_type": "stream",
     "text": [
      "Out[48]: [Row(CreditScore=365.0, Geography='Germany', Gender='Male', Age=30.0, Tenure=0.0, Balance=127760.0703125, NumOfProducts=1.0, HasCrCard=1.0, IsActiveMember=0.0, EstimatedSalary=81537.8515625, Exited=1.0, GeographyIndex=1.0, GenderIndex=0.0, features=DenseVector([1.0, 0.0, 365.0, 30.0, 0.0, 127760.0703, 1.0, 1.0, 0.0, 81537.8516]), rawPrediction=DenseVector([1.5083, -1.5083]), probability=DenseVector([0.8188, 0.1812]), prediction=0.0),\n Row(CreditScore=373.0, Geography='France', Gender='Male', Age=42.0, Tenure=7.0, Balance=0.0, NumOfProducts=1.0, HasCrCard=1.0, IsActiveMember=0.0, EstimatedSalary=77786.3671875, Exited=1.0, GeographyIndex=0.0, GenderIndex=0.0, features=DenseVector([0.0, 0.0, 373.0, 42.0, 7.0, 0.0, 1.0, 1.0, 0.0, 77786.3672]), rawPrediction=DenseVector([1.3363, -1.3363]), probability=DenseVector([0.7919, 0.2081]), prediction=0.0)]"
     ]
    }
   ],
   "source": [
    "predictions.take(2)"
   ]
  },
  {
   "cell_type": "code",
   "execution_count": 0,
   "metadata": {
    "application/vnd.databricks.v1+cell": {
     "cellMetadata": {
      "byteLimit": 2048000,
      "rowLimit": 10000
     },
     "inputWidgets": {},
     "nuid": "2130a508-a07b-4c60-98fc-2f7ff2b3feaa",
     "showTitle": false,
     "title": ""
    }
   },
   "outputs": [],
   "source": [
    "from pyspark.ml import PipelineModel\n",
    "from pyspark.sql import SparkSession\n",
    "\n"
   ]
  },
  {
   "cell_type": "code",
   "execution_count": 0,
   "metadata": {
    "application/vnd.databricks.v1+cell": {
     "cellMetadata": {
      "byteLimit": 2048000,
      "rowLimit": 10000
     },
     "inputWidgets": {},
     "nuid": "5c931871-f372-4f23-ba2f-51f1f4c408ab",
     "showTitle": false,
     "title": ""
    }
   },
   "outputs": [],
   "source": [
    "\n",
    "#Tạo Spark session\n",
    "spark = SparkSession.builder.appName(\"ChurnModellingPrediction\").getOrCreate()\n"
   ]
  },
  {
   "cell_type": "code",
   "execution_count": 0,
   "metadata": {
    "application/vnd.databricks.v1+cell": {
     "cellMetadata": {
      "byteLimit": 2048000,
      "rowLimit": 10000
     },
     "inputWidgets": {},
     "nuid": "c030ec0c-8081-470c-8fb5-70c2338c9e3f",
     "showTitle": false,
     "title": ""
    }
   },
   "outputs": [
    {
     "output_type": "display_data",
     "data": {
      "text/plain": [
       "\u001B[0;31m---------------------------------------------------------------------------\u001B[0m\n",
       "\u001B[0;31mPy4JJavaError\u001B[0m                             Traceback (most recent call last)\n",
       "File \u001B[0;32m<command-2952072165482096>:3\u001B[0m\n",
       "\u001B[1;32m      1\u001B[0m \u001B[38;5;66;03m#Load mô hình\u001B[39;00m\n",
       "\u001B[1;32m      2\u001B[0m saved_model_path \u001B[38;5;241m=\u001B[39m \u001B[38;5;124m\"\u001B[39m\u001B[38;5;124mpath_to_save_model\u001B[39m\u001B[38;5;124m\"\u001B[39m\n",
       "\u001B[0;32m----> 3\u001B[0m loaded_model \u001B[38;5;241m=\u001B[39m PipelineModel\u001B[38;5;241m.\u001B[39mload(\u001B[38;5;124m\"\u001B[39m\u001B[38;5;124m/content/model77.csv\u001B[39m\u001B[38;5;124m\"\u001B[39m)\n",
       "\n",
       "File \u001B[0;32m/databricks/spark/python/pyspark/ml/util.py:447\u001B[0m, in \u001B[0;36mMLReadable.load\u001B[0;34m(cls, path)\u001B[0m\n",
       "\u001B[1;32m    444\u001B[0m \u001B[38;5;129m@classmethod\u001B[39m\n",
       "\u001B[1;32m    445\u001B[0m \u001B[38;5;28;01mdef\u001B[39;00m \u001B[38;5;21mload\u001B[39m(\u001B[38;5;28mcls\u001B[39m, path: \u001B[38;5;28mstr\u001B[39m) \u001B[38;5;241m-\u001B[39m\u001B[38;5;241m>\u001B[39m RL:\n",
       "\u001B[1;32m    446\u001B[0m     \u001B[38;5;124;03m\"\"\"Reads an ML instance from the input path, a shortcut of `read().load(path)`.\"\"\"\u001B[39;00m\n",
       "\u001B[0;32m--> 447\u001B[0m     \u001B[38;5;28;01mreturn\u001B[39;00m \u001B[38;5;28;43mcls\u001B[39;49m\u001B[38;5;241;43m.\u001B[39;49m\u001B[43mread\u001B[49m\u001B[43m(\u001B[49m\u001B[43m)\u001B[49m\u001B[38;5;241;43m.\u001B[39;49m\u001B[43mload\u001B[49m\u001B[43m(\u001B[49m\u001B[43mpath\u001B[49m\u001B[43m)\u001B[49m\n",
       "\n",
       "File \u001B[0;32m/databricks/spark/python/pyspark/ml/pipeline.py:282\u001B[0m, in \u001B[0;36mPipelineModelReader.load\u001B[0;34m(self, path)\u001B[0m\n",
       "\u001B[1;32m    281\u001B[0m \u001B[38;5;28;01mdef\u001B[39;00m \u001B[38;5;21mload\u001B[39m(\u001B[38;5;28mself\u001B[39m, path: \u001B[38;5;28mstr\u001B[39m) \u001B[38;5;241m-\u001B[39m\u001B[38;5;241m>\u001B[39m \u001B[38;5;124m\"\u001B[39m\u001B[38;5;124mPipelineModel\u001B[39m\u001B[38;5;124m\"\u001B[39m:\n",
       "\u001B[0;32m--> 282\u001B[0m     metadata \u001B[38;5;241m=\u001B[39m \u001B[43mDefaultParamsReader\u001B[49m\u001B[38;5;241;43m.\u001B[39;49m\u001B[43mloadMetadata\u001B[49m\u001B[43m(\u001B[49m\u001B[43mpath\u001B[49m\u001B[43m,\u001B[49m\u001B[43m \u001B[49m\u001B[38;5;28;43mself\u001B[39;49m\u001B[38;5;241;43m.\u001B[39;49m\u001B[43msc\u001B[49m\u001B[43m)\u001B[49m\n",
       "\u001B[1;32m    283\u001B[0m     \u001B[38;5;28;01mif\u001B[39;00m \u001B[38;5;124m\"\u001B[39m\u001B[38;5;124mlanguage\u001B[39m\u001B[38;5;124m\"\u001B[39m \u001B[38;5;129;01mnot\u001B[39;00m \u001B[38;5;129;01min\u001B[39;00m metadata[\u001B[38;5;124m\"\u001B[39m\u001B[38;5;124mparamMap\u001B[39m\u001B[38;5;124m\"\u001B[39m] \u001B[38;5;129;01mor\u001B[39;00m metadata[\u001B[38;5;124m\"\u001B[39m\u001B[38;5;124mparamMap\u001B[39m\u001B[38;5;124m\"\u001B[39m][\u001B[38;5;124m\"\u001B[39m\u001B[38;5;124mlanguage\u001B[39m\u001B[38;5;124m\"\u001B[39m] \u001B[38;5;241m!=\u001B[39m \u001B[38;5;124m\"\u001B[39m\u001B[38;5;124mPython\u001B[39m\u001B[38;5;124m\"\u001B[39m:\n",
       "\u001B[1;32m    284\u001B[0m         \u001B[38;5;28;01mreturn\u001B[39;00m JavaMLReader(cast(Type[\u001B[38;5;124m\"\u001B[39m\u001B[38;5;124mJavaMLReadable[PipelineModel]\u001B[39m\u001B[38;5;124m\"\u001B[39m], \u001B[38;5;28mself\u001B[39m\u001B[38;5;241m.\u001B[39mcls))\u001B[38;5;241m.\u001B[39mload(path)\n",
       "\n",
       "File \u001B[0;32m/databricks/spark/python/pyspark/ml/util.py:659\u001B[0m, in \u001B[0;36mDefaultParamsReader.loadMetadata\u001B[0;34m(path, sc, expectedClassName)\u001B[0m\n",
       "\u001B[1;32m    648\u001B[0m \u001B[38;5;124;03m\"\"\"\u001B[39;00m\n",
       "\u001B[1;32m    649\u001B[0m \u001B[38;5;124;03mLoad metadata saved using :py:meth:`DefaultParamsWriter.saveMetadata`\u001B[39;00m\n",
       "\u001B[1;32m    650\u001B[0m \n",
       "\u001B[0;32m   (...)\u001B[0m\n",
       "\u001B[1;32m    656\u001B[0m \u001B[38;5;124;03m    If non empty, this is checked against the loaded metadata.\u001B[39;00m\n",
       "\u001B[1;32m    657\u001B[0m \u001B[38;5;124;03m\"\"\"\u001B[39;00m\n",
       "\u001B[1;32m    658\u001B[0m metadataPath \u001B[38;5;241m=\u001B[39m os\u001B[38;5;241m.\u001B[39mpath\u001B[38;5;241m.\u001B[39mjoin(path, \u001B[38;5;124m\"\u001B[39m\u001B[38;5;124mmetadata\u001B[39m\u001B[38;5;124m\"\u001B[39m)\n",
       "\u001B[0;32m--> 659\u001B[0m metadataStr \u001B[38;5;241m=\u001B[39m \u001B[43msc\u001B[49m\u001B[38;5;241;43m.\u001B[39;49m\u001B[43mtextFile\u001B[49m\u001B[43m(\u001B[49m\u001B[43mmetadataPath\u001B[49m\u001B[43m,\u001B[49m\u001B[43m \u001B[49m\u001B[38;5;241;43m1\u001B[39;49m\u001B[43m)\u001B[49m\u001B[38;5;241;43m.\u001B[39;49m\u001B[43mfirst\u001B[49m\u001B[43m(\u001B[49m\u001B[43m)\u001B[49m\n",
       "\u001B[1;32m    660\u001B[0m loadedVals \u001B[38;5;241m=\u001B[39m DefaultParamsReader\u001B[38;5;241m.\u001B[39m_parseMetaData(metadataStr, expectedClassName)\n",
       "\u001B[1;32m    661\u001B[0m \u001B[38;5;28;01mreturn\u001B[39;00m loadedVals\n",
       "\n",
       "File \u001B[0;32m/databricks/spark/python/pyspark/instrumentation_utils.py:48\u001B[0m, in \u001B[0;36m_wrap_function.<locals>.wrapper\u001B[0;34m(*args, **kwargs)\u001B[0m\n",
       "\u001B[1;32m     46\u001B[0m start \u001B[38;5;241m=\u001B[39m time\u001B[38;5;241m.\u001B[39mperf_counter()\n",
       "\u001B[1;32m     47\u001B[0m \u001B[38;5;28;01mtry\u001B[39;00m:\n",
       "\u001B[0;32m---> 48\u001B[0m     res \u001B[38;5;241m=\u001B[39m \u001B[43mfunc\u001B[49m\u001B[43m(\u001B[49m\u001B[38;5;241;43m*\u001B[39;49m\u001B[43margs\u001B[49m\u001B[43m,\u001B[49m\u001B[43m \u001B[49m\u001B[38;5;241;43m*\u001B[39;49m\u001B[38;5;241;43m*\u001B[39;49m\u001B[43mkwargs\u001B[49m\u001B[43m)\u001B[49m\n",
       "\u001B[1;32m     49\u001B[0m     logger\u001B[38;5;241m.\u001B[39mlog_success(\n",
       "\u001B[1;32m     50\u001B[0m         module_name, class_name, function_name, time\u001B[38;5;241m.\u001B[39mperf_counter() \u001B[38;5;241m-\u001B[39m start, signature\n",
       "\u001B[1;32m     51\u001B[0m     )\n",
       "\u001B[1;32m     52\u001B[0m     \u001B[38;5;28;01mreturn\u001B[39;00m res\n",
       "\n",
       "File \u001B[0;32m/databricks/spark/python/pyspark/rdd.py:2892\u001B[0m, in \u001B[0;36mRDD.first\u001B[0;34m(self)\u001B[0m\n",
       "\u001B[1;32m   2866\u001B[0m \u001B[38;5;28;01mdef\u001B[39;00m \u001B[38;5;21mfirst\u001B[39m(\u001B[38;5;28mself\u001B[39m: \u001B[38;5;124m\"\u001B[39m\u001B[38;5;124mRDD[T]\u001B[39m\u001B[38;5;124m\"\u001B[39m) \u001B[38;5;241m-\u001B[39m\u001B[38;5;241m>\u001B[39m T:\n",
       "\u001B[1;32m   2867\u001B[0m     \u001B[38;5;124;03m\"\"\"\u001B[39;00m\n",
       "\u001B[1;32m   2868\u001B[0m \u001B[38;5;124;03m    Return the first element in this RDD.\u001B[39;00m\n",
       "\u001B[1;32m   2869\u001B[0m \n",
       "\u001B[0;32m   (...)\u001B[0m\n",
       "\u001B[1;32m   2890\u001B[0m \u001B[38;5;124;03m    ValueError: RDD is empty\u001B[39;00m\n",
       "\u001B[1;32m   2891\u001B[0m \u001B[38;5;124;03m    \"\"\"\u001B[39;00m\n",
       "\u001B[0;32m-> 2892\u001B[0m     rs \u001B[38;5;241m=\u001B[39m \u001B[38;5;28;43mself\u001B[39;49m\u001B[38;5;241;43m.\u001B[39;49m\u001B[43mtake\u001B[49m\u001B[43m(\u001B[49m\u001B[38;5;241;43m1\u001B[39;49m\u001B[43m)\u001B[49m\n",
       "\u001B[1;32m   2893\u001B[0m     \u001B[38;5;28;01mif\u001B[39;00m rs:\n",
       "\u001B[1;32m   2894\u001B[0m         \u001B[38;5;28;01mreturn\u001B[39;00m rs[\u001B[38;5;241m0\u001B[39m]\n",
       "\n",
       "File \u001B[0;32m/databricks/spark/python/pyspark/instrumentation_utils.py:43\u001B[0m, in \u001B[0;36m_wrap_function.<locals>.wrapper\u001B[0;34m(*args, **kwargs)\u001B[0m\n",
       "\u001B[1;32m     39\u001B[0m \u001B[38;5;129m@functools\u001B[39m\u001B[38;5;241m.\u001B[39mwraps(func)\n",
       "\u001B[1;32m     40\u001B[0m \u001B[38;5;28;01mdef\u001B[39;00m \u001B[38;5;21mwrapper\u001B[39m(\u001B[38;5;241m*\u001B[39margs: Any, \u001B[38;5;241m*\u001B[39m\u001B[38;5;241m*\u001B[39mkwargs: Any) \u001B[38;5;241m-\u001B[39m\u001B[38;5;241m>\u001B[39m Any:\n",
       "\u001B[1;32m     41\u001B[0m     \u001B[38;5;28;01mif\u001B[39;00m \u001B[38;5;28mhasattr\u001B[39m(_local, \u001B[38;5;124m\"\u001B[39m\u001B[38;5;124mlogging\u001B[39m\u001B[38;5;124m\"\u001B[39m) \u001B[38;5;129;01mand\u001B[39;00m _local\u001B[38;5;241m.\u001B[39mlogging:\n",
       "\u001B[1;32m     42\u001B[0m         \u001B[38;5;66;03m# no need to log since this should be internal call.\u001B[39;00m\n",
       "\u001B[0;32m---> 43\u001B[0m         \u001B[38;5;28;01mreturn\u001B[39;00m \u001B[43mfunc\u001B[49m\u001B[43m(\u001B[49m\u001B[38;5;241;43m*\u001B[39;49m\u001B[43margs\u001B[49m\u001B[43m,\u001B[49m\u001B[43m \u001B[49m\u001B[38;5;241;43m*\u001B[39;49m\u001B[38;5;241;43m*\u001B[39;49m\u001B[43mkwargs\u001B[49m\u001B[43m)\u001B[49m\n",
       "\u001B[1;32m     44\u001B[0m     _local\u001B[38;5;241m.\u001B[39mlogging \u001B[38;5;241m=\u001B[39m \u001B[38;5;28;01mTrue\u001B[39;00m\n",
       "\u001B[1;32m     45\u001B[0m     \u001B[38;5;28;01mtry\u001B[39;00m:\n",
       "\n",
       "File \u001B[0;32m/databricks/spark/python/pyspark/rdd.py:2826\u001B[0m, in \u001B[0;36mRDD.take\u001B[0;34m(self, num)\u001B[0m\n",
       "\u001B[1;32m   2785\u001B[0m \u001B[38;5;124;03m\"\"\"\u001B[39;00m\n",
       "\u001B[1;32m   2786\u001B[0m \u001B[38;5;124;03mTake the first num elements of the RDD.\u001B[39;00m\n",
       "\u001B[1;32m   2787\u001B[0m \n",
       "\u001B[0;32m   (...)\u001B[0m\n",
       "\u001B[1;32m   2823\u001B[0m \u001B[38;5;124;03m[91, 92, 93]\u001B[39;00m\n",
       "\u001B[1;32m   2824\u001B[0m \u001B[38;5;124;03m\"\"\"\u001B[39;00m\n",
       "\u001B[1;32m   2825\u001B[0m items: List[T] \u001B[38;5;241m=\u001B[39m []\n",
       "\u001B[0;32m-> 2826\u001B[0m totalParts \u001B[38;5;241m=\u001B[39m \u001B[38;5;28;43mself\u001B[39;49m\u001B[38;5;241;43m.\u001B[39;49m\u001B[43mgetNumPartitions\u001B[49m\u001B[43m(\u001B[49m\u001B[43m)\u001B[49m\n",
       "\u001B[1;32m   2827\u001B[0m partsScanned \u001B[38;5;241m=\u001B[39m \u001B[38;5;241m0\u001B[39m\n",
       "\u001B[1;32m   2829\u001B[0m \u001B[38;5;28;01mwhile\u001B[39;00m \u001B[38;5;28mlen\u001B[39m(items) \u001B[38;5;241m<\u001B[39m num \u001B[38;5;129;01mand\u001B[39;00m partsScanned \u001B[38;5;241m<\u001B[39m totalParts:\n",
       "\u001B[1;32m   2830\u001B[0m     \u001B[38;5;66;03m# The number of partitions to try in this iteration.\u001B[39;00m\n",
       "\u001B[1;32m   2831\u001B[0m     \u001B[38;5;66;03m# It is ok for this number to be greater than totalParts because\u001B[39;00m\n",
       "\u001B[1;32m   2832\u001B[0m     \u001B[38;5;66;03m# we actually cap it at totalParts in runJob.\u001B[39;00m\n",
       "\n",
       "File \u001B[0;32m/databricks/spark/python/pyspark/instrumentation_utils.py:43\u001B[0m, in \u001B[0;36m_wrap_function.<locals>.wrapper\u001B[0;34m(*args, **kwargs)\u001B[0m\n",
       "\u001B[1;32m     39\u001B[0m \u001B[38;5;129m@functools\u001B[39m\u001B[38;5;241m.\u001B[39mwraps(func)\n",
       "\u001B[1;32m     40\u001B[0m \u001B[38;5;28;01mdef\u001B[39;00m \u001B[38;5;21mwrapper\u001B[39m(\u001B[38;5;241m*\u001B[39margs: Any, \u001B[38;5;241m*\u001B[39m\u001B[38;5;241m*\u001B[39mkwargs: Any) \u001B[38;5;241m-\u001B[39m\u001B[38;5;241m>\u001B[39m Any:\n",
       "\u001B[1;32m     41\u001B[0m     \u001B[38;5;28;01mif\u001B[39;00m \u001B[38;5;28mhasattr\u001B[39m(_local, \u001B[38;5;124m\"\u001B[39m\u001B[38;5;124mlogging\u001B[39m\u001B[38;5;124m\"\u001B[39m) \u001B[38;5;129;01mand\u001B[39;00m _local\u001B[38;5;241m.\u001B[39mlogging:\n",
       "\u001B[1;32m     42\u001B[0m         \u001B[38;5;66;03m# no need to log since this should be internal call.\u001B[39;00m\n",
       "\u001B[0;32m---> 43\u001B[0m         \u001B[38;5;28;01mreturn\u001B[39;00m \u001B[43mfunc\u001B[49m\u001B[43m(\u001B[49m\u001B[38;5;241;43m*\u001B[39;49m\u001B[43margs\u001B[49m\u001B[43m,\u001B[49m\u001B[43m \u001B[49m\u001B[38;5;241;43m*\u001B[39;49m\u001B[38;5;241;43m*\u001B[39;49m\u001B[43mkwargs\u001B[49m\u001B[43m)\u001B[49m\n",
       "\u001B[1;32m     44\u001B[0m     _local\u001B[38;5;241m.\u001B[39mlogging \u001B[38;5;241m=\u001B[39m \u001B[38;5;28;01mTrue\u001B[39;00m\n",
       "\u001B[1;32m     45\u001B[0m     \u001B[38;5;28;01mtry\u001B[39;00m:\n",
       "\n",
       "File \u001B[0;32m/databricks/spark/python/pyspark/rdd.py:943\u001B[0m, in \u001B[0;36mRDD.getNumPartitions\u001B[0;34m(self)\u001B[0m\n",
       "\u001B[1;32m    926\u001B[0m \u001B[38;5;28;01mdef\u001B[39;00m \u001B[38;5;21mgetNumPartitions\u001B[39m(\u001B[38;5;28mself\u001B[39m) \u001B[38;5;241m-\u001B[39m\u001B[38;5;241m>\u001B[39m \u001B[38;5;28mint\u001B[39m:\n",
       "\u001B[1;32m    927\u001B[0m     \u001B[38;5;124;03m\"\"\"\u001B[39;00m\n",
       "\u001B[1;32m    928\u001B[0m \u001B[38;5;124;03m    Returns the number of partitions in RDD\u001B[39;00m\n",
       "\u001B[1;32m    929\u001B[0m \n",
       "\u001B[0;32m   (...)\u001B[0m\n",
       "\u001B[1;32m    941\u001B[0m \u001B[38;5;124;03m    2\u001B[39;00m\n",
       "\u001B[1;32m    942\u001B[0m \u001B[38;5;124;03m    \"\"\"\u001B[39;00m\n",
       "\u001B[0;32m--> 943\u001B[0m     \u001B[38;5;28;01mreturn\u001B[39;00m \u001B[38;5;28;43mself\u001B[39;49m\u001B[38;5;241;43m.\u001B[39;49m\u001B[43m_jrdd\u001B[49m\u001B[38;5;241;43m.\u001B[39;49m\u001B[43mpartitions\u001B[49m\u001B[43m(\u001B[49m\u001B[43m)\u001B[49m\u001B[38;5;241m.\u001B[39msize()\n",
       "\n",
       "File \u001B[0;32m/databricks/spark/python/lib/py4j-0.10.9.5-src.zip/py4j/java_gateway.py:1321\u001B[0m, in \u001B[0;36mJavaMember.__call__\u001B[0;34m(self, *args)\u001B[0m\n",
       "\u001B[1;32m   1315\u001B[0m command \u001B[38;5;241m=\u001B[39m proto\u001B[38;5;241m.\u001B[39mCALL_COMMAND_NAME \u001B[38;5;241m+\u001B[39m\\\n",
       "\u001B[1;32m   1316\u001B[0m     \u001B[38;5;28mself\u001B[39m\u001B[38;5;241m.\u001B[39mcommand_header \u001B[38;5;241m+\u001B[39m\\\n",
       "\u001B[1;32m   1317\u001B[0m     args_command \u001B[38;5;241m+\u001B[39m\\\n",
       "\u001B[1;32m   1318\u001B[0m     proto\u001B[38;5;241m.\u001B[39mEND_COMMAND_PART\n",
       "\u001B[1;32m   1320\u001B[0m answer \u001B[38;5;241m=\u001B[39m \u001B[38;5;28mself\u001B[39m\u001B[38;5;241m.\u001B[39mgateway_client\u001B[38;5;241m.\u001B[39msend_command(command)\n",
       "\u001B[0;32m-> 1321\u001B[0m return_value \u001B[38;5;241m=\u001B[39m \u001B[43mget_return_value\u001B[49m\u001B[43m(\u001B[49m\n",
       "\u001B[1;32m   1322\u001B[0m \u001B[43m    \u001B[49m\u001B[43manswer\u001B[49m\u001B[43m,\u001B[49m\u001B[43m \u001B[49m\u001B[38;5;28;43mself\u001B[39;49m\u001B[38;5;241;43m.\u001B[39;49m\u001B[43mgateway_client\u001B[49m\u001B[43m,\u001B[49m\u001B[43m \u001B[49m\u001B[38;5;28;43mself\u001B[39;49m\u001B[38;5;241;43m.\u001B[39;49m\u001B[43mtarget_id\u001B[49m\u001B[43m,\u001B[49m\u001B[43m \u001B[49m\u001B[38;5;28;43mself\u001B[39;49m\u001B[38;5;241;43m.\u001B[39;49m\u001B[43mname\u001B[49m\u001B[43m)\u001B[49m\n",
       "\u001B[1;32m   1324\u001B[0m \u001B[38;5;28;01mfor\u001B[39;00m temp_arg \u001B[38;5;129;01min\u001B[39;00m temp_args:\n",
       "\u001B[1;32m   1325\u001B[0m     temp_arg\u001B[38;5;241m.\u001B[39m_detach()\n",
       "\n",
       "File \u001B[0;32m/databricks/spark/python/pyspark/errors/exceptions.py:228\u001B[0m, in \u001B[0;36mcapture_sql_exception.<locals>.deco\u001B[0;34m(*a, **kw)\u001B[0m\n",
       "\u001B[1;32m    226\u001B[0m \u001B[38;5;28;01mdef\u001B[39;00m \u001B[38;5;21mdeco\u001B[39m(\u001B[38;5;241m*\u001B[39ma: Any, \u001B[38;5;241m*\u001B[39m\u001B[38;5;241m*\u001B[39mkw: Any) \u001B[38;5;241m-\u001B[39m\u001B[38;5;241m>\u001B[39m Any:\n",
       "\u001B[1;32m    227\u001B[0m     \u001B[38;5;28;01mtry\u001B[39;00m:\n",
       "\u001B[0;32m--> 228\u001B[0m         \u001B[38;5;28;01mreturn\u001B[39;00m \u001B[43mf\u001B[49m\u001B[43m(\u001B[49m\u001B[38;5;241;43m*\u001B[39;49m\u001B[43ma\u001B[49m\u001B[43m,\u001B[49m\u001B[43m \u001B[49m\u001B[38;5;241;43m*\u001B[39;49m\u001B[38;5;241;43m*\u001B[39;49m\u001B[43mkw\u001B[49m\u001B[43m)\u001B[49m\n",
       "\u001B[1;32m    229\u001B[0m     \u001B[38;5;28;01mexcept\u001B[39;00m Py4JJavaError \u001B[38;5;28;01mas\u001B[39;00m e:\n",
       "\u001B[1;32m    230\u001B[0m         converted \u001B[38;5;241m=\u001B[39m convert_exception(e\u001B[38;5;241m.\u001B[39mjava_exception)\n",
       "\n",
       "File \u001B[0;32m/databricks/spark/python/lib/py4j-0.10.9.5-src.zip/py4j/protocol.py:326\u001B[0m, in \u001B[0;36mget_return_value\u001B[0;34m(answer, gateway_client, target_id, name)\u001B[0m\n",
       "\u001B[1;32m    324\u001B[0m value \u001B[38;5;241m=\u001B[39m OUTPUT_CONVERTER[\u001B[38;5;28mtype\u001B[39m](answer[\u001B[38;5;241m2\u001B[39m:], gateway_client)\n",
       "\u001B[1;32m    325\u001B[0m \u001B[38;5;28;01mif\u001B[39;00m answer[\u001B[38;5;241m1\u001B[39m] \u001B[38;5;241m==\u001B[39m REFERENCE_TYPE:\n",
       "\u001B[0;32m--> 326\u001B[0m     \u001B[38;5;28;01mraise\u001B[39;00m Py4JJavaError(\n",
       "\u001B[1;32m    327\u001B[0m         \u001B[38;5;124m\"\u001B[39m\u001B[38;5;124mAn error occurred while calling \u001B[39m\u001B[38;5;132;01m{0}\u001B[39;00m\u001B[38;5;132;01m{1}\u001B[39;00m\u001B[38;5;132;01m{2}\u001B[39;00m\u001B[38;5;124m.\u001B[39m\u001B[38;5;130;01m\\n\u001B[39;00m\u001B[38;5;124m\"\u001B[39m\u001B[38;5;241m.\u001B[39m\n",
       "\u001B[1;32m    328\u001B[0m         \u001B[38;5;28mformat\u001B[39m(target_id, \u001B[38;5;124m\"\u001B[39m\u001B[38;5;124m.\u001B[39m\u001B[38;5;124m\"\u001B[39m, name), value)\n",
       "\u001B[1;32m    329\u001B[0m \u001B[38;5;28;01melse\u001B[39;00m:\n",
       "\u001B[1;32m    330\u001B[0m     \u001B[38;5;28;01mraise\u001B[39;00m Py4JError(\n",
       "\u001B[1;32m    331\u001B[0m         \u001B[38;5;124m\"\u001B[39m\u001B[38;5;124mAn error occurred while calling \u001B[39m\u001B[38;5;132;01m{0}\u001B[39;00m\u001B[38;5;132;01m{1}\u001B[39;00m\u001B[38;5;132;01m{2}\u001B[39;00m\u001B[38;5;124m. Trace:\u001B[39m\u001B[38;5;130;01m\\n\u001B[39;00m\u001B[38;5;132;01m{3}\u001B[39;00m\u001B[38;5;130;01m\\n\u001B[39;00m\u001B[38;5;124m\"\u001B[39m\u001B[38;5;241m.\u001B[39m\n",
       "\u001B[1;32m    332\u001B[0m         \u001B[38;5;28mformat\u001B[39m(target_id, \u001B[38;5;124m\"\u001B[39m\u001B[38;5;124m.\u001B[39m\u001B[38;5;124m\"\u001B[39m, name, value))\n",
       "\n",
       "\u001B[0;31mPy4JJavaError\u001B[0m: An error occurred while calling o2327.partitions.\n",
       ": org.apache.hadoop.mapred.InvalidInputException: Input path does not exist: /content/model77.csv/metadata\n",
       "\tat org.apache.hadoop.mapred.FileInputFormat.singleThreadedListStatus(FileInputFormat.java:304)\n",
       "\tat org.apache.hadoop.mapred.FileInputFormat.listStatus(FileInputFormat.java:244)\n",
       "\tat org.apache.hadoop.mapred.FileInputFormat.getSplits(FileInputFormat.java:332)\n",
       "\tat org.apache.spark.rdd.HadoopRDD.getPartitions(HadoopRDD.scala:223)\n",
       "\tat org.apache.spark.rdd.RDD.$anonfun$partitions$2(RDD.scala:333)\n",
       "\tat scala.Option.getOrElse(Option.scala:189)\n",
       "\tat org.apache.spark.rdd.RDD.partitions(RDD.scala:329)\n",
       "\tat org.apache.spark.rdd.MapPartitionsRDD.getPartitions(MapPartitionsRDD.scala:57)\n",
       "\tat org.apache.spark.rdd.RDD.$anonfun$partitions$2(RDD.scala:333)\n",
       "\tat scala.Option.getOrElse(Option.scala:189)\n",
       "\tat org.apache.spark.rdd.RDD.partitions(RDD.scala:329)\n",
       "\tat org.apache.spark.api.java.JavaRDDLike.partitions(JavaRDDLike.scala:62)\n",
       "\tat org.apache.spark.api.java.JavaRDDLike.partitions$(JavaRDDLike.scala:62)\n",
       "\tat org.apache.spark.api.java.AbstractJavaRDDLike.partitions(JavaRDDLike.scala:45)\n",
       "\tat sun.reflect.NativeMethodAccessorImpl.invoke0(Native Method)\n",
       "\tat sun.reflect.NativeMethodAccessorImpl.invoke(NativeMethodAccessorImpl.java:62)\n",
       "\tat sun.reflect.DelegatingMethodAccessorImpl.invoke(DelegatingMethodAccessorImpl.java:43)\n",
       "\tat java.lang.reflect.Method.invoke(Method.java:498)\n",
       "\tat py4j.reflection.MethodInvoker.invoke(MethodInvoker.java:244)\n",
       "\tat py4j.reflection.ReflectionEngine.invoke(ReflectionEngine.java:380)\n",
       "\tat py4j.Gateway.invoke(Gateway.java:306)\n",
       "\tat py4j.commands.AbstractCommand.invokeMethod(AbstractCommand.java:132)\n",
       "\tat py4j.commands.CallCommand.execute(CallCommand.java:79)\n",
       "\tat py4j.ClientServerConnection.waitForCommands(ClientServerConnection.java:195)\n",
       "\tat py4j.ClientServerConnection.run(ClientServerConnection.java:115)\n",
       "\tat java.lang.Thread.run(Thread.java:750)\n",
       "Caused by: java.io.IOException: Input path does not exist: /content/model77.csv/metadata\n",
       "\tat org.apache.hadoop.mapred.FileInputFormat.singleThreadedListStatus(FileInputFormat.java:278)\n",
       "\t... 25 more\n"
      ]
     },
     "metadata": {
      "application/vnd.databricks.v1+output": {
       "arguments": {},
       "data": "\u001B[0;31m---------------------------------------------------------------------------\u001B[0m\n\u001B[0;31mPy4JJavaError\u001B[0m                             Traceback (most recent call last)\nFile \u001B[0;32m<command-2952072165482096>:3\u001B[0m\n\u001B[1;32m      1\u001B[0m \u001B[38;5;66;03m#Load mô hình\u001B[39;00m\n\u001B[1;32m      2\u001B[0m saved_model_path \u001B[38;5;241m=\u001B[39m \u001B[38;5;124m\"\u001B[39m\u001B[38;5;124mpath_to_save_model\u001B[39m\u001B[38;5;124m\"\u001B[39m\n\u001B[0;32m----> 3\u001B[0m loaded_model \u001B[38;5;241m=\u001B[39m PipelineModel\u001B[38;5;241m.\u001B[39mload(\u001B[38;5;124m\"\u001B[39m\u001B[38;5;124m/content/model77.csv\u001B[39m\u001B[38;5;124m\"\u001B[39m)\n\nFile \u001B[0;32m/databricks/spark/python/pyspark/ml/util.py:447\u001B[0m, in \u001B[0;36mMLReadable.load\u001B[0;34m(cls, path)\u001B[0m\n\u001B[1;32m    444\u001B[0m \u001B[38;5;129m@classmethod\u001B[39m\n\u001B[1;32m    445\u001B[0m \u001B[38;5;28;01mdef\u001B[39;00m \u001B[38;5;21mload\u001B[39m(\u001B[38;5;28mcls\u001B[39m, path: \u001B[38;5;28mstr\u001B[39m) \u001B[38;5;241m-\u001B[39m\u001B[38;5;241m>\u001B[39m RL:\n\u001B[1;32m    446\u001B[0m     \u001B[38;5;124;03m\"\"\"Reads an ML instance from the input path, a shortcut of `read().load(path)`.\"\"\"\u001B[39;00m\n\u001B[0;32m--> 447\u001B[0m     \u001B[38;5;28;01mreturn\u001B[39;00m \u001B[38;5;28;43mcls\u001B[39;49m\u001B[38;5;241;43m.\u001B[39;49m\u001B[43mread\u001B[49m\u001B[43m(\u001B[49m\u001B[43m)\u001B[49m\u001B[38;5;241;43m.\u001B[39;49m\u001B[43mload\u001B[49m\u001B[43m(\u001B[49m\u001B[43mpath\u001B[49m\u001B[43m)\u001B[49m\n\nFile \u001B[0;32m/databricks/spark/python/pyspark/ml/pipeline.py:282\u001B[0m, in \u001B[0;36mPipelineModelReader.load\u001B[0;34m(self, path)\u001B[0m\n\u001B[1;32m    281\u001B[0m \u001B[38;5;28;01mdef\u001B[39;00m \u001B[38;5;21mload\u001B[39m(\u001B[38;5;28mself\u001B[39m, path: \u001B[38;5;28mstr\u001B[39m) \u001B[38;5;241m-\u001B[39m\u001B[38;5;241m>\u001B[39m \u001B[38;5;124m\"\u001B[39m\u001B[38;5;124mPipelineModel\u001B[39m\u001B[38;5;124m\"\u001B[39m:\n\u001B[0;32m--> 282\u001B[0m     metadata \u001B[38;5;241m=\u001B[39m \u001B[43mDefaultParamsReader\u001B[49m\u001B[38;5;241;43m.\u001B[39;49m\u001B[43mloadMetadata\u001B[49m\u001B[43m(\u001B[49m\u001B[43mpath\u001B[49m\u001B[43m,\u001B[49m\u001B[43m \u001B[49m\u001B[38;5;28;43mself\u001B[39;49m\u001B[38;5;241;43m.\u001B[39;49m\u001B[43msc\u001B[49m\u001B[43m)\u001B[49m\n\u001B[1;32m    283\u001B[0m     \u001B[38;5;28;01mif\u001B[39;00m \u001B[38;5;124m\"\u001B[39m\u001B[38;5;124mlanguage\u001B[39m\u001B[38;5;124m\"\u001B[39m \u001B[38;5;129;01mnot\u001B[39;00m \u001B[38;5;129;01min\u001B[39;00m metadata[\u001B[38;5;124m\"\u001B[39m\u001B[38;5;124mparamMap\u001B[39m\u001B[38;5;124m\"\u001B[39m] \u001B[38;5;129;01mor\u001B[39;00m metadata[\u001B[38;5;124m\"\u001B[39m\u001B[38;5;124mparamMap\u001B[39m\u001B[38;5;124m\"\u001B[39m][\u001B[38;5;124m\"\u001B[39m\u001B[38;5;124mlanguage\u001B[39m\u001B[38;5;124m\"\u001B[39m] \u001B[38;5;241m!=\u001B[39m \u001B[38;5;124m\"\u001B[39m\u001B[38;5;124mPython\u001B[39m\u001B[38;5;124m\"\u001B[39m:\n\u001B[1;32m    284\u001B[0m         \u001B[38;5;28;01mreturn\u001B[39;00m JavaMLReader(cast(Type[\u001B[38;5;124m\"\u001B[39m\u001B[38;5;124mJavaMLReadable[PipelineModel]\u001B[39m\u001B[38;5;124m\"\u001B[39m], \u001B[38;5;28mself\u001B[39m\u001B[38;5;241m.\u001B[39mcls))\u001B[38;5;241m.\u001B[39mload(path)\n\nFile \u001B[0;32m/databricks/spark/python/pyspark/ml/util.py:659\u001B[0m, in \u001B[0;36mDefaultParamsReader.loadMetadata\u001B[0;34m(path, sc, expectedClassName)\u001B[0m\n\u001B[1;32m    648\u001B[0m \u001B[38;5;124;03m\"\"\"\u001B[39;00m\n\u001B[1;32m    649\u001B[0m \u001B[38;5;124;03mLoad metadata saved using :py:meth:`DefaultParamsWriter.saveMetadata`\u001B[39;00m\n\u001B[1;32m    650\u001B[0m \n\u001B[0;32m   (...)\u001B[0m\n\u001B[1;32m    656\u001B[0m \u001B[38;5;124;03m    If non empty, this is checked against the loaded metadata.\u001B[39;00m\n\u001B[1;32m    657\u001B[0m \u001B[38;5;124;03m\"\"\"\u001B[39;00m\n\u001B[1;32m    658\u001B[0m metadataPath \u001B[38;5;241m=\u001B[39m os\u001B[38;5;241m.\u001B[39mpath\u001B[38;5;241m.\u001B[39mjoin(path, \u001B[38;5;124m\"\u001B[39m\u001B[38;5;124mmetadata\u001B[39m\u001B[38;5;124m\"\u001B[39m)\n\u001B[0;32m--> 659\u001B[0m metadataStr \u001B[38;5;241m=\u001B[39m \u001B[43msc\u001B[49m\u001B[38;5;241;43m.\u001B[39;49m\u001B[43mtextFile\u001B[49m\u001B[43m(\u001B[49m\u001B[43mmetadataPath\u001B[49m\u001B[43m,\u001B[49m\u001B[43m \u001B[49m\u001B[38;5;241;43m1\u001B[39;49m\u001B[43m)\u001B[49m\u001B[38;5;241;43m.\u001B[39;49m\u001B[43mfirst\u001B[49m\u001B[43m(\u001B[49m\u001B[43m)\u001B[49m\n\u001B[1;32m    660\u001B[0m loadedVals \u001B[38;5;241m=\u001B[39m DefaultParamsReader\u001B[38;5;241m.\u001B[39m_parseMetaData(metadataStr, expectedClassName)\n\u001B[1;32m    661\u001B[0m \u001B[38;5;28;01mreturn\u001B[39;00m loadedVals\n\nFile \u001B[0;32m/databricks/spark/python/pyspark/instrumentation_utils.py:48\u001B[0m, in \u001B[0;36m_wrap_function.<locals>.wrapper\u001B[0;34m(*args, **kwargs)\u001B[0m\n\u001B[1;32m     46\u001B[0m start \u001B[38;5;241m=\u001B[39m time\u001B[38;5;241m.\u001B[39mperf_counter()\n\u001B[1;32m     47\u001B[0m \u001B[38;5;28;01mtry\u001B[39;00m:\n\u001B[0;32m---> 48\u001B[0m     res \u001B[38;5;241m=\u001B[39m \u001B[43mfunc\u001B[49m\u001B[43m(\u001B[49m\u001B[38;5;241;43m*\u001B[39;49m\u001B[43margs\u001B[49m\u001B[43m,\u001B[49m\u001B[43m \u001B[49m\u001B[38;5;241;43m*\u001B[39;49m\u001B[38;5;241;43m*\u001B[39;49m\u001B[43mkwargs\u001B[49m\u001B[43m)\u001B[49m\n\u001B[1;32m     49\u001B[0m     logger\u001B[38;5;241m.\u001B[39mlog_success(\n\u001B[1;32m     50\u001B[0m         module_name, class_name, function_name, time\u001B[38;5;241m.\u001B[39mperf_counter() \u001B[38;5;241m-\u001B[39m start, signature\n\u001B[1;32m     51\u001B[0m     )\n\u001B[1;32m     52\u001B[0m     \u001B[38;5;28;01mreturn\u001B[39;00m res\n\nFile \u001B[0;32m/databricks/spark/python/pyspark/rdd.py:2892\u001B[0m, in \u001B[0;36mRDD.first\u001B[0;34m(self)\u001B[0m\n\u001B[1;32m   2866\u001B[0m \u001B[38;5;28;01mdef\u001B[39;00m \u001B[38;5;21mfirst\u001B[39m(\u001B[38;5;28mself\u001B[39m: \u001B[38;5;124m\"\u001B[39m\u001B[38;5;124mRDD[T]\u001B[39m\u001B[38;5;124m\"\u001B[39m) \u001B[38;5;241m-\u001B[39m\u001B[38;5;241m>\u001B[39m T:\n\u001B[1;32m   2867\u001B[0m     \u001B[38;5;124;03m\"\"\"\u001B[39;00m\n\u001B[1;32m   2868\u001B[0m \u001B[38;5;124;03m    Return the first element in this RDD.\u001B[39;00m\n\u001B[1;32m   2869\u001B[0m \n\u001B[0;32m   (...)\u001B[0m\n\u001B[1;32m   2890\u001B[0m \u001B[38;5;124;03m    ValueError: RDD is empty\u001B[39;00m\n\u001B[1;32m   2891\u001B[0m \u001B[38;5;124;03m    \"\"\"\u001B[39;00m\n\u001B[0;32m-> 2892\u001B[0m     rs \u001B[38;5;241m=\u001B[39m \u001B[38;5;28;43mself\u001B[39;49m\u001B[38;5;241;43m.\u001B[39;49m\u001B[43mtake\u001B[49m\u001B[43m(\u001B[49m\u001B[38;5;241;43m1\u001B[39;49m\u001B[43m)\u001B[49m\n\u001B[1;32m   2893\u001B[0m     \u001B[38;5;28;01mif\u001B[39;00m rs:\n\u001B[1;32m   2894\u001B[0m         \u001B[38;5;28;01mreturn\u001B[39;00m rs[\u001B[38;5;241m0\u001B[39m]\n\nFile \u001B[0;32m/databricks/spark/python/pyspark/instrumentation_utils.py:43\u001B[0m, in \u001B[0;36m_wrap_function.<locals>.wrapper\u001B[0;34m(*args, **kwargs)\u001B[0m\n\u001B[1;32m     39\u001B[0m \u001B[38;5;129m@functools\u001B[39m\u001B[38;5;241m.\u001B[39mwraps(func)\n\u001B[1;32m     40\u001B[0m \u001B[38;5;28;01mdef\u001B[39;00m \u001B[38;5;21mwrapper\u001B[39m(\u001B[38;5;241m*\u001B[39margs: Any, \u001B[38;5;241m*\u001B[39m\u001B[38;5;241m*\u001B[39mkwargs: Any) \u001B[38;5;241m-\u001B[39m\u001B[38;5;241m>\u001B[39m Any:\n\u001B[1;32m     41\u001B[0m     \u001B[38;5;28;01mif\u001B[39;00m \u001B[38;5;28mhasattr\u001B[39m(_local, \u001B[38;5;124m\"\u001B[39m\u001B[38;5;124mlogging\u001B[39m\u001B[38;5;124m\"\u001B[39m) \u001B[38;5;129;01mand\u001B[39;00m _local\u001B[38;5;241m.\u001B[39mlogging:\n\u001B[1;32m     42\u001B[0m         \u001B[38;5;66;03m# no need to log since this should be internal call.\u001B[39;00m\n\u001B[0;32m---> 43\u001B[0m         \u001B[38;5;28;01mreturn\u001B[39;00m \u001B[43mfunc\u001B[49m\u001B[43m(\u001B[49m\u001B[38;5;241;43m*\u001B[39;49m\u001B[43margs\u001B[49m\u001B[43m,\u001B[49m\u001B[43m \u001B[49m\u001B[38;5;241;43m*\u001B[39;49m\u001B[38;5;241;43m*\u001B[39;49m\u001B[43mkwargs\u001B[49m\u001B[43m)\u001B[49m\n\u001B[1;32m     44\u001B[0m     _local\u001B[38;5;241m.\u001B[39mlogging \u001B[38;5;241m=\u001B[39m \u001B[38;5;28;01mTrue\u001B[39;00m\n\u001B[1;32m     45\u001B[0m     \u001B[38;5;28;01mtry\u001B[39;00m:\n\nFile \u001B[0;32m/databricks/spark/python/pyspark/rdd.py:2826\u001B[0m, in \u001B[0;36mRDD.take\u001B[0;34m(self, num)\u001B[0m\n\u001B[1;32m   2785\u001B[0m \u001B[38;5;124;03m\"\"\"\u001B[39;00m\n\u001B[1;32m   2786\u001B[0m \u001B[38;5;124;03mTake the first num elements of the RDD.\u001B[39;00m\n\u001B[1;32m   2787\u001B[0m \n\u001B[0;32m   (...)\u001B[0m\n\u001B[1;32m   2823\u001B[0m \u001B[38;5;124;03m[91, 92, 93]\u001B[39;00m\n\u001B[1;32m   2824\u001B[0m \u001B[38;5;124;03m\"\"\"\u001B[39;00m\n\u001B[1;32m   2825\u001B[0m items: List[T] \u001B[38;5;241m=\u001B[39m []\n\u001B[0;32m-> 2826\u001B[0m totalParts \u001B[38;5;241m=\u001B[39m \u001B[38;5;28;43mself\u001B[39;49m\u001B[38;5;241;43m.\u001B[39;49m\u001B[43mgetNumPartitions\u001B[49m\u001B[43m(\u001B[49m\u001B[43m)\u001B[49m\n\u001B[1;32m   2827\u001B[0m partsScanned \u001B[38;5;241m=\u001B[39m \u001B[38;5;241m0\u001B[39m\n\u001B[1;32m   2829\u001B[0m \u001B[38;5;28;01mwhile\u001B[39;00m \u001B[38;5;28mlen\u001B[39m(items) \u001B[38;5;241m<\u001B[39m num \u001B[38;5;129;01mand\u001B[39;00m partsScanned \u001B[38;5;241m<\u001B[39m totalParts:\n\u001B[1;32m   2830\u001B[0m     \u001B[38;5;66;03m# The number of partitions to try in this iteration.\u001B[39;00m\n\u001B[1;32m   2831\u001B[0m     \u001B[38;5;66;03m# It is ok for this number to be greater than totalParts because\u001B[39;00m\n\u001B[1;32m   2832\u001B[0m     \u001B[38;5;66;03m# we actually cap it at totalParts in runJob.\u001B[39;00m\n\nFile \u001B[0;32m/databricks/spark/python/pyspark/instrumentation_utils.py:43\u001B[0m, in \u001B[0;36m_wrap_function.<locals>.wrapper\u001B[0;34m(*args, **kwargs)\u001B[0m\n\u001B[1;32m     39\u001B[0m \u001B[38;5;129m@functools\u001B[39m\u001B[38;5;241m.\u001B[39mwraps(func)\n\u001B[1;32m     40\u001B[0m \u001B[38;5;28;01mdef\u001B[39;00m \u001B[38;5;21mwrapper\u001B[39m(\u001B[38;5;241m*\u001B[39margs: Any, \u001B[38;5;241m*\u001B[39m\u001B[38;5;241m*\u001B[39mkwargs: Any) \u001B[38;5;241m-\u001B[39m\u001B[38;5;241m>\u001B[39m Any:\n\u001B[1;32m     41\u001B[0m     \u001B[38;5;28;01mif\u001B[39;00m \u001B[38;5;28mhasattr\u001B[39m(_local, \u001B[38;5;124m\"\u001B[39m\u001B[38;5;124mlogging\u001B[39m\u001B[38;5;124m\"\u001B[39m) \u001B[38;5;129;01mand\u001B[39;00m _local\u001B[38;5;241m.\u001B[39mlogging:\n\u001B[1;32m     42\u001B[0m         \u001B[38;5;66;03m# no need to log since this should be internal call.\u001B[39;00m\n\u001B[0;32m---> 43\u001B[0m         \u001B[38;5;28;01mreturn\u001B[39;00m \u001B[43mfunc\u001B[49m\u001B[43m(\u001B[49m\u001B[38;5;241;43m*\u001B[39;49m\u001B[43margs\u001B[49m\u001B[43m,\u001B[49m\u001B[43m \u001B[49m\u001B[38;5;241;43m*\u001B[39;49m\u001B[38;5;241;43m*\u001B[39;49m\u001B[43mkwargs\u001B[49m\u001B[43m)\u001B[49m\n\u001B[1;32m     44\u001B[0m     _local\u001B[38;5;241m.\u001B[39mlogging \u001B[38;5;241m=\u001B[39m \u001B[38;5;28;01mTrue\u001B[39;00m\n\u001B[1;32m     45\u001B[0m     \u001B[38;5;28;01mtry\u001B[39;00m:\n\nFile \u001B[0;32m/databricks/spark/python/pyspark/rdd.py:943\u001B[0m, in \u001B[0;36mRDD.getNumPartitions\u001B[0;34m(self)\u001B[0m\n\u001B[1;32m    926\u001B[0m \u001B[38;5;28;01mdef\u001B[39;00m \u001B[38;5;21mgetNumPartitions\u001B[39m(\u001B[38;5;28mself\u001B[39m) \u001B[38;5;241m-\u001B[39m\u001B[38;5;241m>\u001B[39m \u001B[38;5;28mint\u001B[39m:\n\u001B[1;32m    927\u001B[0m     \u001B[38;5;124;03m\"\"\"\u001B[39;00m\n\u001B[1;32m    928\u001B[0m \u001B[38;5;124;03m    Returns the number of partitions in RDD\u001B[39;00m\n\u001B[1;32m    929\u001B[0m \n\u001B[0;32m   (...)\u001B[0m\n\u001B[1;32m    941\u001B[0m \u001B[38;5;124;03m    2\u001B[39;00m\n\u001B[1;32m    942\u001B[0m \u001B[38;5;124;03m    \"\"\"\u001B[39;00m\n\u001B[0;32m--> 943\u001B[0m     \u001B[38;5;28;01mreturn\u001B[39;00m \u001B[38;5;28;43mself\u001B[39;49m\u001B[38;5;241;43m.\u001B[39;49m\u001B[43m_jrdd\u001B[49m\u001B[38;5;241;43m.\u001B[39;49m\u001B[43mpartitions\u001B[49m\u001B[43m(\u001B[49m\u001B[43m)\u001B[49m\u001B[38;5;241m.\u001B[39msize()\n\nFile \u001B[0;32m/databricks/spark/python/lib/py4j-0.10.9.5-src.zip/py4j/java_gateway.py:1321\u001B[0m, in \u001B[0;36mJavaMember.__call__\u001B[0;34m(self, *args)\u001B[0m\n\u001B[1;32m   1315\u001B[0m command \u001B[38;5;241m=\u001B[39m proto\u001B[38;5;241m.\u001B[39mCALL_COMMAND_NAME \u001B[38;5;241m+\u001B[39m\\\n\u001B[1;32m   1316\u001B[0m     \u001B[38;5;28mself\u001B[39m\u001B[38;5;241m.\u001B[39mcommand_header \u001B[38;5;241m+\u001B[39m\\\n\u001B[1;32m   1317\u001B[0m     args_command \u001B[38;5;241m+\u001B[39m\\\n\u001B[1;32m   1318\u001B[0m     proto\u001B[38;5;241m.\u001B[39mEND_COMMAND_PART\n\u001B[1;32m   1320\u001B[0m answer \u001B[38;5;241m=\u001B[39m \u001B[38;5;28mself\u001B[39m\u001B[38;5;241m.\u001B[39mgateway_client\u001B[38;5;241m.\u001B[39msend_command(command)\n\u001B[0;32m-> 1321\u001B[0m return_value \u001B[38;5;241m=\u001B[39m \u001B[43mget_return_value\u001B[49m\u001B[43m(\u001B[49m\n\u001B[1;32m   1322\u001B[0m \u001B[43m    \u001B[49m\u001B[43manswer\u001B[49m\u001B[43m,\u001B[49m\u001B[43m \u001B[49m\u001B[38;5;28;43mself\u001B[39;49m\u001B[38;5;241;43m.\u001B[39;49m\u001B[43mgateway_client\u001B[49m\u001B[43m,\u001B[49m\u001B[43m \u001B[49m\u001B[38;5;28;43mself\u001B[39;49m\u001B[38;5;241;43m.\u001B[39;49m\u001B[43mtarget_id\u001B[49m\u001B[43m,\u001B[49m\u001B[43m \u001B[49m\u001B[38;5;28;43mself\u001B[39;49m\u001B[38;5;241;43m.\u001B[39;49m\u001B[43mname\u001B[49m\u001B[43m)\u001B[49m\n\u001B[1;32m   1324\u001B[0m \u001B[38;5;28;01mfor\u001B[39;00m temp_arg \u001B[38;5;129;01min\u001B[39;00m temp_args:\n\u001B[1;32m   1325\u001B[0m     temp_arg\u001B[38;5;241m.\u001B[39m_detach()\n\nFile \u001B[0;32m/databricks/spark/python/pyspark/errors/exceptions.py:228\u001B[0m, in \u001B[0;36mcapture_sql_exception.<locals>.deco\u001B[0;34m(*a, **kw)\u001B[0m\n\u001B[1;32m    226\u001B[0m \u001B[38;5;28;01mdef\u001B[39;00m \u001B[38;5;21mdeco\u001B[39m(\u001B[38;5;241m*\u001B[39ma: Any, \u001B[38;5;241m*\u001B[39m\u001B[38;5;241m*\u001B[39mkw: Any) \u001B[38;5;241m-\u001B[39m\u001B[38;5;241m>\u001B[39m Any:\n\u001B[1;32m    227\u001B[0m     \u001B[38;5;28;01mtry\u001B[39;00m:\n\u001B[0;32m--> 228\u001B[0m         \u001B[38;5;28;01mreturn\u001B[39;00m \u001B[43mf\u001B[49m\u001B[43m(\u001B[49m\u001B[38;5;241;43m*\u001B[39;49m\u001B[43ma\u001B[49m\u001B[43m,\u001B[49m\u001B[43m \u001B[49m\u001B[38;5;241;43m*\u001B[39;49m\u001B[38;5;241;43m*\u001B[39;49m\u001B[43mkw\u001B[49m\u001B[43m)\u001B[49m\n\u001B[1;32m    229\u001B[0m     \u001B[38;5;28;01mexcept\u001B[39;00m Py4JJavaError \u001B[38;5;28;01mas\u001B[39;00m e:\n\u001B[1;32m    230\u001B[0m         converted \u001B[38;5;241m=\u001B[39m convert_exception(e\u001B[38;5;241m.\u001B[39mjava_exception)\n\nFile \u001B[0;32m/databricks/spark/python/lib/py4j-0.10.9.5-src.zip/py4j/protocol.py:326\u001B[0m, in \u001B[0;36mget_return_value\u001B[0;34m(answer, gateway_client, target_id, name)\u001B[0m\n\u001B[1;32m    324\u001B[0m value \u001B[38;5;241m=\u001B[39m OUTPUT_CONVERTER[\u001B[38;5;28mtype\u001B[39m](answer[\u001B[38;5;241m2\u001B[39m:], gateway_client)\n\u001B[1;32m    325\u001B[0m \u001B[38;5;28;01mif\u001B[39;00m answer[\u001B[38;5;241m1\u001B[39m] \u001B[38;5;241m==\u001B[39m REFERENCE_TYPE:\n\u001B[0;32m--> 326\u001B[0m     \u001B[38;5;28;01mraise\u001B[39;00m Py4JJavaError(\n\u001B[1;32m    327\u001B[0m         \u001B[38;5;124m\"\u001B[39m\u001B[38;5;124mAn error occurred while calling \u001B[39m\u001B[38;5;132;01m{0}\u001B[39;00m\u001B[38;5;132;01m{1}\u001B[39;00m\u001B[38;5;132;01m{2}\u001B[39;00m\u001B[38;5;124m.\u001B[39m\u001B[38;5;130;01m\\n\u001B[39;00m\u001B[38;5;124m\"\u001B[39m\u001B[38;5;241m.\u001B[39m\n\u001B[1;32m    328\u001B[0m         \u001B[38;5;28mformat\u001B[39m(target_id, \u001B[38;5;124m\"\u001B[39m\u001B[38;5;124m.\u001B[39m\u001B[38;5;124m\"\u001B[39m, name), value)\n\u001B[1;32m    329\u001B[0m \u001B[38;5;28;01melse\u001B[39;00m:\n\u001B[1;32m    330\u001B[0m     \u001B[38;5;28;01mraise\u001B[39;00m Py4JError(\n\u001B[1;32m    331\u001B[0m         \u001B[38;5;124m\"\u001B[39m\u001B[38;5;124mAn error occurred while calling \u001B[39m\u001B[38;5;132;01m{0}\u001B[39;00m\u001B[38;5;132;01m{1}\u001B[39;00m\u001B[38;5;132;01m{2}\u001B[39;00m\u001B[38;5;124m. Trace:\u001B[39m\u001B[38;5;130;01m\\n\u001B[39;00m\u001B[38;5;132;01m{3}\u001B[39;00m\u001B[38;5;130;01m\\n\u001B[39;00m\u001B[38;5;124m\"\u001B[39m\u001B[38;5;241m.\u001B[39m\n\u001B[1;32m    332\u001B[0m         \u001B[38;5;28mformat\u001B[39m(target_id, \u001B[38;5;124m\"\u001B[39m\u001B[38;5;124m.\u001B[39m\u001B[38;5;124m\"\u001B[39m, name, value))\n\n\u001B[0;31mPy4JJavaError\u001B[0m: An error occurred while calling o2327.partitions.\n: org.apache.hadoop.mapred.InvalidInputException: Input path does not exist: /content/model77.csv/metadata\n\tat org.apache.hadoop.mapred.FileInputFormat.singleThreadedListStatus(FileInputFormat.java:304)\n\tat org.apache.hadoop.mapred.FileInputFormat.listStatus(FileInputFormat.java:244)\n\tat org.apache.hadoop.mapred.FileInputFormat.getSplits(FileInputFormat.java:332)\n\tat org.apache.spark.rdd.HadoopRDD.getPartitions(HadoopRDD.scala:223)\n\tat org.apache.spark.rdd.RDD.$anonfun$partitions$2(RDD.scala:333)\n\tat scala.Option.getOrElse(Option.scala:189)\n\tat org.apache.spark.rdd.RDD.partitions(RDD.scala:329)\n\tat org.apache.spark.rdd.MapPartitionsRDD.getPartitions(MapPartitionsRDD.scala:57)\n\tat org.apache.spark.rdd.RDD.$anonfun$partitions$2(RDD.scala:333)\n\tat scala.Option.getOrElse(Option.scala:189)\n\tat org.apache.spark.rdd.RDD.partitions(RDD.scala:329)\n\tat org.apache.spark.api.java.JavaRDDLike.partitions(JavaRDDLike.scala:62)\n\tat org.apache.spark.api.java.JavaRDDLike.partitions$(JavaRDDLike.scala:62)\n\tat org.apache.spark.api.java.AbstractJavaRDDLike.partitions(JavaRDDLike.scala:45)\n\tat sun.reflect.NativeMethodAccessorImpl.invoke0(Native Method)\n\tat sun.reflect.NativeMethodAccessorImpl.invoke(NativeMethodAccessorImpl.java:62)\n\tat sun.reflect.DelegatingMethodAccessorImpl.invoke(DelegatingMethodAccessorImpl.java:43)\n\tat java.lang.reflect.Method.invoke(Method.java:498)\n\tat py4j.reflection.MethodInvoker.invoke(MethodInvoker.java:244)\n\tat py4j.reflection.ReflectionEngine.invoke(ReflectionEngine.java:380)\n\tat py4j.Gateway.invoke(Gateway.java:306)\n\tat py4j.commands.AbstractCommand.invokeMethod(AbstractCommand.java:132)\n\tat py4j.commands.CallCommand.execute(CallCommand.java:79)\n\tat py4j.ClientServerConnection.waitForCommands(ClientServerConnection.java:195)\n\tat py4j.ClientServerConnection.run(ClientServerConnection.java:115)\n\tat java.lang.Thread.run(Thread.java:750)\nCaused by: java.io.IOException: Input path does not exist: /content/model77.csv/metadata\n\tat org.apache.hadoop.mapred.FileInputFormat.singleThreadedListStatus(FileInputFormat.java:278)\n\t... 25 more\n",
       "errorSummary": "org.apache.hadoop.mapred.InvalidInputException: Input path does not exist: /content/model77.csv/metadata",
       "errorTraceType": "ansi",
       "metadata": {},
       "type": "ipynbError"
      }
     },
     "output_type": "display_data"
    }
   ],
   "source": [
    "\n",
    "\n"
   ]
  }
 ],
 "metadata": {
  "application/vnd.databricks.v1+notebook": {
   "dashboards": [],
   "language": "python",
   "notebookMetadata": {
    "pythonIndentUnit": 4
   },
   "notebookName": "Baithuchanhso8",
   "widgets": {}
  }
 },
 "nbformat": 4,
 "nbformat_minor": 0
}
