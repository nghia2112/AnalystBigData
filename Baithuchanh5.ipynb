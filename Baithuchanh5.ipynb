{
 "cells": [
  {
   "cell_type": "code",
   "execution_count": null,
   "metadata": {
    "application/vnd.databricks.v1+cell": {
     "cellMetadata": {
      "byteLimit": 2048000,
      "rowLimit": 10000
     },
     "inputWidgets": {},
     "nuid": "03814ace-99e2-4431-89ff-4d0af3689b4a",
     "showTitle": false,
     "title": ""
    }
   },
   "outputs": [],
   "source": [
    "#dbfs:/FileStore/shared_uploads/danghia2002@gmail.com/u.data\n",
    "#dbfs:/FileStore/shared_uploads/danghia2002@gmail.com/u.item\n",
    "#dbfs:/FileStore/shared_uploads/danghia2002@gmail.com/u.genre\n",
    "#dbfs:/FileStore/shared_uploads/danghia2002@gmail.com/u_occupation\n",
    "#dbfs:/FileStore/shared_uploads/danghia2002@gmail.com/u.user"
   ]
  },
  {
   "cell_type": "code",
   "execution_count": null,
   "metadata": {
    "application/vnd.databricks.v1+cell": {
     "cellMetadata": {
      "byteLimit": 2048000,
      "rowLimit": 10000
     },
     "inputWidgets": {},
     "nuid": "81bbf414-3d8f-4363-8539-3d6ad46dc521",
     "showTitle": false,
     "title": ""
    }
   },
   "outputs": [],
   "source": [
    "# Nạp dữ liệu từ file u.item vào DataFrame\n",
    "item_data = spark.read.format(\"csv\").option(\"delimiter\", \"|\").load(\"dbfs:/FileStore/shared_uploads/danghia2002@gmail.com/u.item\")\n",
    "item_data = item_data.selectExpr(\"_c0 as item_id\", \"_c1 as title\", \"_c2 as release_date\", \"_c4 as imdb_url\")\n",
    "item_data = item_data.withColumn(\"item_id\", item_data[\"item_id\"].cast(\"integer\"))\n",
    "# Nạp dữ liệu từ file u.data vào DataFrame\n",
    "rating_data = spark.read.format(\"csv\").option(\"delimiter\", \"\\t\").load(\"dbfs:/FileStore/shared_uploads/danghia2002@gmail.com/u.data\")\n",
    "rating_data = rating_data.selectExpr(\"_c0 as user_id\", \"_c1 as item_id\", \"_c2 as rating\", \"_c3 as timestamp\")\n",
    "rating_data = rating_data.withColumn(\"user_id\", rating_data[\"user_id\"].cast(\"integer\"))\n",
    "rating_data = rating_data.withColumn(\"item_id\", rating_data[\"item_id\"].cast(\"integer\"))\n",
    "rating_data = rating_data.withColumn(\"rating\", rating_data[\"rating\"].cast(\"integer\"))\n",
    "# Nạp dữ liệu từ file u.user vào DataFrame\n",
    "user_data = spark.read.format(\"csv\").option(\"delimiter\", \"|\").load(\"dbfs:/FileStore/shared_uploads/danghia2002@gmail.com/u.user\")\n",
    "user_data = user_data.selectExpr(\"_c0 as user_id\", \"_c1 as age\", \"_c2 as gender\", \"_c3 as occupation\", \"_c4 as zip_code\")\n",
    "user_data = user_data.withColumn(\"user_id\", user_data[\"user_id\"].cast(\"integer\"))\n",
    "# Nạp dữ liệu từ file u.occupation vào DataFrame\n",
    "occupation_data = spark.read.format(\"csv\").option(\"delimiter\", \"|\").load(\"dbfs:/FileStore/shared_uploads/danghia2002@gmail.com/u_occupation\")\n",
    "occupation_data = occupation_data.selectExpr(\"_c0 as occupation\")\n",
    "# Nạp dữ liệu từ file u.genre vào DataFrame\n",
    "genre_data = spark.read.format(\"csv\").option(\"delimiter\", \"|\").load(\"dbfs:/FileStore/shared_uploads/danghia2002@gmail.com/u.genre\")\n",
    "genre_data = genre_data.selectExpr(\"_c0 as movie_classification\", \"_c1 as id_classification\")\n",
    "genre_data = genre_data.withColumn(\"id_classification\", genre_data[\"id_classification\"].cast(\"integer\"))"
   ]
  },
  {
   "cell_type": "code",
   "execution_count": null,
   "metadata": {
    "application/vnd.databricks.v1+cell": {
     "cellMetadata": {
      "byteLimit": 2048000,
      "rowLimit": 10000
     },
     "inputWidgets": {},
     "nuid": "1fa011d2-b485-4aaf-922f-2319f4f81743",
     "showTitle": false,
     "title": ""
    }
   },
   "outputs": [
    {
     "name": "stdout",
     "output_type": "stream",
     "text": [
      "+--------------------+-----------------+\n",
      "|movie_classification|id_classification|\n",
      "+--------------------+-----------------+\n",
      "|             unknown|                0|\n",
      "|              Action|                1|\n",
      "|           Adventure|                2|\n",
      "|           Animation|                3|\n",
      "|          Children's|                4|\n",
      "|              Comedy|                5|\n",
      "|               Crime|                6|\n",
      "|         Documentary|                7|\n",
      "|               Drama|                8|\n",
      "|             Fantasy|                9|\n",
      "|           Film-Noir|               10|\n",
      "|              Horror|               11|\n",
      "|             Musical|               12|\n",
      "|             Mystery|               13|\n",
      "|             Romance|               14|\n",
      "|              Sci-Fi|               15|\n",
      "|            Thriller|               16|\n",
      "|                 War|               17|\n",
      "|             Western|               18|\n",
      "+--------------------+-----------------+\n",
      "\n"
     ]
    }
   ],
   "source": [
    "genre_data.show()\n"
   ]
  },
  {
   "cell_type": "code",
   "execution_count": null,
   "metadata": {
    "application/vnd.databricks.v1+cell": {
     "cellMetadata": {
      "byteLimit": 2048000,
      "rowLimit": 10000
     },
     "inputWidgets": {},
     "nuid": "93695a87-017b-4b1c-923b-84cd80d42a29",
     "showTitle": false,
     "title": ""
    }
   },
   "outputs": [
    {
     "name": "stdout",
     "output_type": "stream",
     "text": [
      "+-------+------------------+\n",
      "|summary|            rating|\n",
      "+-------+------------------+\n",
      "|  count|            100000|\n",
      "|   mean|           3.52986|\n",
      "| stddev|1.1256735991443214|\n",
      "|    min|                 1|\n",
      "|    max|                 5|\n",
      "+-------+------------------+\n",
      "\n"
     ]
    }
   ],
   "source": [
    "#Thông tin thống kê về rating của người dùng về các bộ phim\n",
    "rating_data.describe(\"rating\").show()"
   ]
  },
  {
   "cell_type": "code",
   "execution_count": null,
   "metadata": {
    "application/vnd.databricks.v1+cell": {
     "cellMetadata": {
      "byteLimit": 2048000,
      "rowLimit": 10000
     },
     "inputWidgets": {},
     "nuid": "efc6f4c6-2dbf-4345-851d-43b3b532f510",
     "showTitle": false,
     "title": ""
    }
   },
   "outputs": [
    {
     "name": "stdout",
     "output_type": "stream",
     "text": [
      "+-------+-------+------+---------+\n",
      "|user_id|item_id|rating|timestamp|\n",
      "+-------+-------+------+---------+\n",
      "|      1|     61|     4|878542420|\n",
      "|      1|    189|     3|888732928|\n",
      "|      1|     33|     4|878542699|\n",
      "|      1|    160|     4|875072547|\n",
      "|      1|     20|     4|887431883|\n",
      "|      1|    202|     5|875072442|\n",
      "|      1|    171|     5|889751711|\n",
      "|      1|    265|     4|878542441|\n",
      "|      1|    155|     2|878542201|\n",
      "|      1|    117|     3|874965739|\n",
      "|      1|     47|     4|875072125|\n",
      "|      1|    222|     4|878873388|\n",
      "|      1|    253|     5|874965970|\n",
      "|      1|    113|     5|878542738|\n",
      "|      1|    227|     4|876892946|\n",
      "|      1|     17|     3|875073198|\n",
      "|      1|     90|     4|878542300|\n",
      "|      1|     64|     5|875072404|\n",
      "|      1|     92|     3|876892425|\n",
      "|      1|    228|     5|878543541|\n",
      "+-------+-------+------+---------+\n",
      "only showing top 20 rows\n",
      "\n"
     ]
    }
   ],
   "source": [
    "#Người dùng 1 đã rating những bộ phim nào\n",
    "user1_ratings = rating_data.filter(rating_data[\"user_id\"] == 1)\n",
    "user1_ratings.show()"
   ]
  },
  {
   "cell_type": "code",
   "execution_count": null,
   "metadata": {
    "application/vnd.databricks.v1+cell": {
     "cellMetadata": {
      "byteLimit": 2048000,
      "rowLimit": 10000
     },
     "inputWidgets": {},
     "nuid": "d0718734-2c2d-41da-956a-1cd07ae2f1fe",
     "showTitle": false,
     "title": ""
    }
   },
   "outputs": [
    {
     "name": "stdout",
     "output_type": "stream",
     "text": [
      "Tên bộ phim có mã 1: Toy Story (1995)\n"
     ]
    }
   ],
   "source": [
    "#Tên bộ phim có mã 1\n",
    "item1_title = item_data.filter(item_data[\"item_id\"] == 1).select(\"title\").first()[0]\n",
    "print(\"Tên bộ phim có mã 1:\", item1_title)"
   ]
  },
  {
   "cell_type": "code",
   "execution_count": null,
   "metadata": {
    "application/vnd.databricks.v1+cell": {
     "cellMetadata": {
      "byteLimit": 2048000,
      "rowLimit": 10000
     },
     "inputWidgets": {},
     "nuid": "3da043f3-2b3b-4a1b-b9e0-666ecbb3abbe",
     "showTitle": false,
     "title": ""
    }
   },
   "outputs": [
    {
     "name": "stdout",
     "output_type": "stream",
     "text": [
      "Số người rating: 182\n",
      "Rating cao nhất: 5\n",
      "Rating thấp nhất: 2\n",
      "Rating trung bình: 4.1208791208791204\n"
     ]
    }
   ],
   "source": [
    "\n",
    "\n"
   ]
  },
  {
   "cell_type": "code",
   "execution_count": null,
   "metadata": {
    "application/vnd.databricks.v1+cell": {
     "cellMetadata": {
      "byteLimit": 2048000,
      "rowLimit": 10000
     },
     "inputWidgets": {},
     "nuid": "a5bda536-2d09-4abf-9176-5a11080b78c3",
     "showTitle": false,
     "title": ""
    }
   },
   "outputs": [
    {
     "name": "stdout",
     "output_type": "stream",
     "text": [
      "+-------+--------------------+------------+--------------------+-----+-----------+\n",
      "|item_id|               title|release_date|            imdb_url|count|min(rating)|\n",
      "+-------+--------------------+------------+--------------------+-----+-----------+\n",
      "|    496|It's a Wonderful ...| 01-Jan-1946|http://us.imdb.co...|  231|          1|\n",
      "|    471|Courage Under Fir...| 08-Mar-1996|http://us.imdb.co...|  221|          1|\n",
      "|    463|Secret of Roan In...| 01-Jan-1994|http://us.imdb.co...|   71|          1|\n",
      "|    148|Ghost and the Dar...| 11-Oct-1996|http://us.imdb.co...|  128|          1|\n",
      "|   1342|Convent, The (Con...| 14-Jun-1996|http://us.imdb.co...|    2|          1|\n",
      "|    833|  Bulletproof (1996)| 06-Sep-1996|http://us.imdb.co...|   49|          1|\n",
      "|   1088|  Double Team (1997)| 04-Apr-1997|http://us.imdb.co...|   13|          1|\n",
      "|   1591|Duoluo tianshi (1...| 21-Jan-1998|http://us.imdb.co...|    6|          1|\n",
      "|   1238|   Full Speed (1996)| 01-Jan-1996|http://us.imdb.co...|    8|          2|\n",
      "|   1580|     Liebelei (1933)| 01-Jan-1933|http://us.imdb.co...|    1|          1|\n",
      "|   1645|Butcher Boy, The ...| 01-Jan-1998|http://us.imdb.co...|    1|          4|\n",
      "|    392|Man Without a Fac...| 01-Jan-1993|http://us.imdb.co...|   68|          1|\n",
      "|    623|Angels in the Out...| 01-Jan-1994|http://us.imdb.co...|   39|          1|\n",
      "|    540|  Money Train (1995)| 01-Jan-1995|http://us.imdb.co...|   43|          1|\n",
      "|    858|Amityville: Dollh...| 01-Jan-1996|http://us.imdb.co...|    3|          1|\n",
      "|    737|       Sirens (1994)| 01-Jan-1994|http://us.imdb.co...|   59|          1|\n",
      "|    243|Jungle2Jungle (1997)| 07-Mar-1997|http://us.imdb.co...|  132|          1|\n",
      "|   1025|Fire Down Below (...| 01-Jan-1997|http://us.imdb.co...|   44|          1|\n",
      "|   1084|Anne Frank Rememb...| 23-Feb-1996|http://us.imdb.co...|   21|          2|\n",
      "|   1127|Truman Show, The ...| 01-Jan-1998|http://us.imdb.co...|   11|          1|\n",
      "+-------+--------------------+------------+--------------------+-----+-----------+\n",
      "only showing top 20 rows\n",
      "\n"
     ]
    }
   ],
   "source": [
    "#Số lượt, trung bình, cao nhất, thấp nhất rating từng bộ phim\n",
    "rating_counts = rating_data.groupBy(\"item_id\").count()\n",
    "rating_stats = rating_data.groupBy(\"item_id\").agg({\"rating\": \"avg\", \"rating\": \"max\", \"rating\": \"min\"})\n",
    "rating_data_stats = item_data.join(rating_counts, \"item_id\").join(rating_stats, \"item_id\")\n",
    "rating_data_stats.show()"
   ]
  },
  {
   "cell_type": "code",
   "execution_count": null,
   "metadata": {
    "application/vnd.databricks.v1+cell": {
     "cellMetadata": {
      "byteLimit": 2048000,
      "rowLimit": 10000
     },
     "inputWidgets": {},
     "nuid": "a8fd277a-3ce6-404e-8d73-147f648c16df",
     "showTitle": false,
     "title": ""
    }
   },
   "outputs": [
    {
     "name": "stdout",
     "output_type": "stream",
     "text": [
      "+-------+-----+--------------------+------------+--------------------+\n",
      "|item_id|count|               title|release_date|            imdb_url|\n",
      "+-------+-----+--------------------+------------+--------------------+\n",
      "|      1|  452|    Toy Story (1995)| 01-Jan-1995|http://us.imdb.co...|\n",
      "|     50|  583|    Star Wars (1977)| 01-Jan-1977|http://us.imdb.co...|\n",
      "|    100|  508|        Fargo (1996)| 14-Feb-1997|http://us.imdb.co...|\n",
      "|    121|  429|Independence Day ...| 03-Jul-1996|http://us.imdb.co...|\n",
      "|    181|  507|Return of the Jed...| 14-Mar-1997|http://us.imdb.co...|\n",
      "|    258|  509|      Contact (1997)| 11-Jul-1997|http://us.imdb.co...|\n",
      "|    286|  481|English Patient, ...| 15-Nov-1996|http://us.imdb.co...|\n",
      "|    288|  478|       Scream (1996)| 20-Dec-1996|http://us.imdb.co...|\n",
      "|    294|  485|    Liar Liar (1997)| 21-Mar-1997|http://us.imdb.co...|\n",
      "|    300|  431|Air Force One (1997)| 01-Jan-1997|http://us.imdb.co...|\n",
      "+-------+-----+--------------------+------------+--------------------+\n",
      "\n"
     ]
    }
   ],
   "source": [
    "#Top 10 bộ phim có số lượt rating cao nhất\n",
    "top_10_movies = rating_counts.orderBy(\"count\", ascending=False).limit(10)\n",
    "top_10_movies_data = top_10_movies.join(item_data, \"item_id\")\n",
    "top_10_movies_data.show()"
   ]
  },
  {
   "cell_type": "code",
   "execution_count": null,
   "metadata": {
    "application/vnd.databricks.v1+cell": {
     "cellMetadata": {
      "byteLimit": 2048000,
      "rowLimit": 10000
     },
     "inputWidgets": {},
     "nuid": "f4a5f232-a585-45ec-85ee-5ceb01f19d13",
     "showTitle": false,
     "title": ""
    }
   },
   "outputs": [
    {
     "name": "stdout",
     "output_type": "stream",
     "text": [
      "+-------+-----+--------------------+------------+--------------------+\n",
      "|item_id|count|               title|release_date|            imdb_url|\n",
      "+-------+-----+--------------------+------------+--------------------+\n",
      "|   1342|    2|Convent, The (Con...| 14-Jun-1996|http://us.imdb.co...|\n",
      "|   1591|    6|Duoluo tianshi (1...| 21-Jan-1998|http://us.imdb.co...|\n",
      "|   1238|    8|   Full Speed (1996)| 01-Jan-1996|http://us.imdb.co...|\n",
      "|   1580|    1|     Liebelei (1933)| 01-Jan-1933|http://us.imdb.co...|\n",
      "|   1645|    1|Butcher Boy, The ...| 01-Jan-1998|http://us.imdb.co...|\n",
      "|    858|    3|Amityville: Dollh...| 01-Jan-1996|http://us.imdb.co...|\n",
      "|   1395|    6|Hurricane Streets...| 01-Jan-1998|http://us.imdb.co...|\n",
      "|   1522|    7|Trial by Jury (1994)| 01-Jan-1994|http://us.imdb.co...|\n",
      "|   1507|    1|Three Lives and O...| 11-Oct-1996|http://us.imdb.co...|\n",
      "|    897|    2| Time Tracers (1995)| 01-Jan-1995|http://us.imdb.co...|\n",
      "|   1460|    1|    Sleepover (1995)| 25-Oct-1996|http://us.imdb.co...|\n",
      "|   1322|    6|Metisse (Caf� au ...| 01-Jan-1993|http://us.imdb.co...|\n",
      "|   1270|    7|Life with Mikey (...| 01-Jan-1993|http://us.imdb.co...|\n",
      "|   1339|    1|Stefano Quantesto...| 01-Jan-1993|http://us.imdb.co...|\n",
      "|   1650|    1|Butcher Boy, The ...| 01-Jan-1998|http://us.imdb.co...|\n",
      "|   1618|    1|King of New York ...| 01-Jan-1990|http://us.imdb.co...|\n",
      "|   1352|    1|Shadow of Angels ...| 01-Jan-1976|http://us.imdb.co...|\n",
      "|   1223|    4|King of the Hill ...| 01-Jan-1993|http://us.imdb.co...|\n",
      "|    970|    8| Hear My Song (1991)| 01-Jan-1991|http://us.imdb.co...|\n",
      "|    804|    8|Jimmy Hollywood (...| 01-Jan-1994|http://us.imdb.co...|\n",
      "+-------+-----+--------------------+------------+--------------------+\n",
      "only showing top 20 rows\n",
      "\n"
     ]
    }
   ],
   "source": [
    "#Các bộ phim có ít hơn 10 lượt rating\n",
    "less_than_10_movies = rating_counts.filter(rating_counts[\"count\"] < 10)\n",
    "less_than_10_movies_data = less_than_10_movies.join(item_data, \"item_id\")\n",
    "less_than_10_movies_data.show()\n"
   ]
  },
  {
   "cell_type": "code",
   "execution_count": null,
   "metadata": {
    "application/vnd.databricks.v1+cell": {
     "cellMetadata": {
      "byteLimit": 2048000,
      "rowLimit": 10000
     },
     "inputWidgets": {},
     "nuid": "96536d50-9d4a-48f5-a8a3-43f5f0367f2d",
     "showTitle": false,
     "title": ""
    }
   },
   "outputs": [
    {
     "name": "stdout",
     "output_type": "stream",
     "text": [
      "+-----------------------------+\n",
      "|title                        |\n",
      "+-----------------------------+\n",
      "|Toy Story (1995)             |\n",
      "|Star Wars (1977)             |\n",
      "|Fargo (1996)                 |\n",
      "|Independence Day (ID4) (1996)|\n",
      "|Return of the Jedi (1983)    |\n",
      "|Contact (1997)               |\n",
      "|English Patient, The (1996)  |\n",
      "|Scream (1996)                |\n",
      "|Liar Liar (1997)             |\n",
      "|Air Force One (1997)         |\n",
      "+-----------------------------+\n",
      "\n"
     ]
    }
   ],
   "source": [
    "# Tên các bộ phim có số lượt rating cao nhất\n",
    "top_movies_titles = top_10_movies_data.select(\"title\")\n",
    "top_movies_titles.show(truncate=False)\n"
   ]
  },
  {
   "cell_type": "code",
   "execution_count": null,
   "metadata": {
    "application/vnd.databricks.v1+cell": {
     "cellMetadata": {
      "byteLimit": 2048000,
      "rowLimit": 10000
     },
     "inputWidgets": {},
     "nuid": "6263bb8a-67cf-4680-b3b3-39e2290245e2",
     "showTitle": false,
     "title": ""
    }
   },
   "outputs": [
    {
     "data": {
      "text/plain": [
       "\u001b[0;31m---------------------------------------------------------------------------\u001b[0m\n",
       "\u001b[0;31mAnalysisException\u001b[0m                         Traceback (most recent call last)\n",
       "File \u001b[0;32m<command-852978552748527>:1\u001b[0m\n",
       "\u001b[0;32m----> 1\u001b[0m programmer_ratings \u001b[38;5;241m=\u001b[39m rating_data\u001b[38;5;241m.\u001b[39mjoin(user_data, [\u001b[38;5;124m\"\u001b[39m\u001b[38;5;124muser_id\u001b[39m\u001b[38;5;124m\"\u001b[39m], \u001b[38;5;124m\"\u001b[39m\u001b[38;5;124minner\u001b[39m\u001b[38;5;124m\"\u001b[39m)\u001b[38;5;241m.\u001b[39mfilter(\n",
       "\u001b[1;32m      2\u001b[0m     (user_data[\u001b[38;5;124m\"\u001b[39m\u001b[38;5;124moccupation\u001b[39m\u001b[38;5;124m\"\u001b[39m] \u001b[38;5;241m==\u001b[39m \u001b[38;5;124m\"\u001b[39m\u001b[38;5;124mprogrammer\u001b[39m\u001b[38;5;124m\"\u001b[39m) \u001b[38;5;241m&\u001b[39m (rating_data[\u001b[38;5;124m\"\u001b[39m\u001b[38;5;124mrating\u001b[39m\u001b[38;5;124m\"\u001b[39m] \u001b[38;5;241m>\u001b[39m\u001b[38;5;241m=\u001b[39m \u001b[38;5;241m4\u001b[39m)\n",
       "\u001b[1;32m      3\u001b[0m )\u001b[38;5;241m.\u001b[39mjoin(item_data, [\u001b[38;5;124m\"\u001b[39m\u001b[38;5;124mitem_id\u001b[39m\u001b[38;5;124m\"\u001b[39m], \u001b[38;5;124m\"\u001b[39m\u001b[38;5;124minner\u001b[39m\u001b[38;5;124m\"\u001b[39m)\u001b[38;5;241m.\u001b[39mjoin(genre_data, [\u001b[38;5;124m\"\u001b[39m\u001b[38;5;124mid_classification\u001b[39m\u001b[38;5;124m\"\u001b[39m], \u001b[38;5;124m\"\u001b[39m\u001b[38;5;124minner\u001b[39m\u001b[38;5;124m\"\u001b[39m)\u001b[38;5;241m.\u001b[39mgroupBy(\u001b[38;5;124m\"\u001b[39m\u001b[38;5;124m_classification\u001b[39m\u001b[38;5;124m\"\u001b[39m)\u001b[38;5;241m.\u001b[39mcount()\n",
       "\u001b[1;32m      4\u001b[0m programmer_ratings\u001b[38;5;241m.\u001b[39mshow()\n",
       "\n",
       "File \u001b[0;32m/databricks/spark/python/pyspark/instrumentation_utils.py:48\u001b[0m, in \u001b[0;36m_wrap_function.<locals>.wrapper\u001b[0;34m(*args, **kwargs)\u001b[0m\n",
       "\u001b[1;32m     46\u001b[0m start \u001b[38;5;241m=\u001b[39m time\u001b[38;5;241m.\u001b[39mperf_counter()\n",
       "\u001b[1;32m     47\u001b[0m \u001b[38;5;28;01mtry\u001b[39;00m:\n",
       "\u001b[0;32m---> 48\u001b[0m     res \u001b[38;5;241m=\u001b[39m \u001b[43mfunc\u001b[49m\u001b[43m(\u001b[49m\u001b[38;5;241;43m*\u001b[39;49m\u001b[43margs\u001b[49m\u001b[43m,\u001b[49m\u001b[43m \u001b[49m\u001b[38;5;241;43m*\u001b[39;49m\u001b[38;5;241;43m*\u001b[39;49m\u001b[43mkwargs\u001b[49m\u001b[43m)\u001b[49m\n",
       "\u001b[1;32m     49\u001b[0m     logger\u001b[38;5;241m.\u001b[39mlog_success(\n",
       "\u001b[1;32m     50\u001b[0m         module_name, class_name, function_name, time\u001b[38;5;241m.\u001b[39mperf_counter() \u001b[38;5;241m-\u001b[39m start, signature\n",
       "\u001b[1;32m     51\u001b[0m     )\n",
       "\u001b[1;32m     52\u001b[0m     \u001b[38;5;28;01mreturn\u001b[39;00m res\n",
       "\n",
       "File \u001b[0;32m/databricks/spark/python/pyspark/sql/dataframe.py:2364\u001b[0m, in \u001b[0;36mDataFrame.join\u001b[0;34m(self, other, on, how)\u001b[0m\n",
       "\u001b[1;32m   2362\u001b[0m         on \u001b[38;5;241m=\u001b[39m \u001b[38;5;28mself\u001b[39m\u001b[38;5;241m.\u001b[39m_jseq([])\n",
       "\u001b[1;32m   2363\u001b[0m     \u001b[38;5;28;01massert\u001b[39;00m \u001b[38;5;28misinstance\u001b[39m(how, \u001b[38;5;28mstr\u001b[39m), \u001b[38;5;124m\"\u001b[39m\u001b[38;5;124mhow should be a string\u001b[39m\u001b[38;5;124m\"\u001b[39m\n",
       "\u001b[0;32m-> 2364\u001b[0m     jdf \u001b[38;5;241m=\u001b[39m \u001b[38;5;28;43mself\u001b[39;49m\u001b[38;5;241;43m.\u001b[39;49m\u001b[43m_jdf\u001b[49m\u001b[38;5;241;43m.\u001b[39;49m\u001b[43mjoin\u001b[49m\u001b[43m(\u001b[49m\u001b[43mother\u001b[49m\u001b[38;5;241;43m.\u001b[39;49m\u001b[43m_jdf\u001b[49m\u001b[43m,\u001b[49m\u001b[43m \u001b[49m\u001b[43mon\u001b[49m\u001b[43m,\u001b[49m\u001b[43m \u001b[49m\u001b[43mhow\u001b[49m\u001b[43m)\u001b[49m\n",
       "\u001b[1;32m   2365\u001b[0m \u001b[38;5;28;01mreturn\u001b[39;00m DataFrame(jdf, \u001b[38;5;28mself\u001b[39m\u001b[38;5;241m.\u001b[39msparkSession)\n",
       "\n",
       "File \u001b[0;32m/databricks/spark/python/lib/py4j-0.10.9.5-src.zip/py4j/java_gateway.py:1321\u001b[0m, in \u001b[0;36mJavaMember.__call__\u001b[0;34m(self, *args)\u001b[0m\n",
       "\u001b[1;32m   1315\u001b[0m command \u001b[38;5;241m=\u001b[39m proto\u001b[38;5;241m.\u001b[39mCALL_COMMAND_NAME \u001b[38;5;241m+\u001b[39m\\\n",
       "\u001b[1;32m   1316\u001b[0m     \u001b[38;5;28mself\u001b[39m\u001b[38;5;241m.\u001b[39mcommand_header \u001b[38;5;241m+\u001b[39m\\\n",
       "\u001b[1;32m   1317\u001b[0m     args_command \u001b[38;5;241m+\u001b[39m\\\n",
       "\u001b[1;32m   1318\u001b[0m     proto\u001b[38;5;241m.\u001b[39mEND_COMMAND_PART\n",
       "\u001b[1;32m   1320\u001b[0m answer \u001b[38;5;241m=\u001b[39m \u001b[38;5;28mself\u001b[39m\u001b[38;5;241m.\u001b[39mgateway_client\u001b[38;5;241m.\u001b[39msend_command(command)\n",
       "\u001b[0;32m-> 1321\u001b[0m return_value \u001b[38;5;241m=\u001b[39m \u001b[43mget_return_value\u001b[49m\u001b[43m(\u001b[49m\n",
       "\u001b[1;32m   1322\u001b[0m \u001b[43m    \u001b[49m\u001b[43manswer\u001b[49m\u001b[43m,\u001b[49m\u001b[43m \u001b[49m\u001b[38;5;28;43mself\u001b[39;49m\u001b[38;5;241;43m.\u001b[39;49m\u001b[43mgateway_client\u001b[49m\u001b[43m,\u001b[49m\u001b[43m \u001b[49m\u001b[38;5;28;43mself\u001b[39;49m\u001b[38;5;241;43m.\u001b[39;49m\u001b[43mtarget_id\u001b[49m\u001b[43m,\u001b[49m\u001b[43m \u001b[49m\u001b[38;5;28;43mself\u001b[39;49m\u001b[38;5;241;43m.\u001b[39;49m\u001b[43mname\u001b[49m\u001b[43m)\u001b[49m\n",
       "\u001b[1;32m   1324\u001b[0m \u001b[38;5;28;01mfor\u001b[39;00m temp_arg \u001b[38;5;129;01min\u001b[39;00m temp_args:\n",
       "\u001b[1;32m   1325\u001b[0m     temp_arg\u001b[38;5;241m.\u001b[39m_detach()\n",
       "\n",
       "File \u001b[0;32m/databricks/spark/python/pyspark/errors/exceptions.py:234\u001b[0m, in \u001b[0;36mcapture_sql_exception.<locals>.deco\u001b[0;34m(*a, **kw)\u001b[0m\n",
       "\u001b[1;32m    230\u001b[0m converted \u001b[38;5;241m=\u001b[39m convert_exception(e\u001b[38;5;241m.\u001b[39mjava_exception)\n",
       "\u001b[1;32m    231\u001b[0m \u001b[38;5;28;01mif\u001b[39;00m \u001b[38;5;129;01mnot\u001b[39;00m \u001b[38;5;28misinstance\u001b[39m(converted, UnknownException):\n",
       "\u001b[1;32m    232\u001b[0m     \u001b[38;5;66;03m# Hide where the exception came from that shows a non-Pythonic\u001b[39;00m\n",
       "\u001b[1;32m    233\u001b[0m     \u001b[38;5;66;03m# JVM exception message.\u001b[39;00m\n",
       "\u001b[0;32m--> 234\u001b[0m     \u001b[38;5;28;01mraise\u001b[39;00m converted \u001b[38;5;28;01mfrom\u001b[39;00m \u001b[38;5;28mNone\u001b[39m\n",
       "\u001b[1;32m    235\u001b[0m \u001b[38;5;28;01melse\u001b[39;00m:\n",
       "\u001b[1;32m    236\u001b[0m     \u001b[38;5;28;01mraise\u001b[39;00m\n",
       "\n",
       "\u001b[0;31mAnalysisException\u001b[0m: USING column `id_classification` cannot be resolved on the left side of the join. The left-side columns: [item_id, user_id, rating, timestamp, age, gender, occupation, zip_code, title, release_date, imdb_url]."
      ]
     },
     "metadata": {
      "application/vnd.databricks.v1+output": {
       "arguments": {},
       "data": "\u001b[0;31m---------------------------------------------------------------------------\u001b[0m\n\u001b[0;31mAnalysisException\u001b[0m                         Traceback (most recent call last)\nFile \u001b[0;32m<command-852978552748527>:1\u001b[0m\n\u001b[0;32m----> 1\u001b[0m programmer_ratings \u001b[38;5;241m=\u001b[39m rating_data\u001b[38;5;241m.\u001b[39mjoin(user_data, [\u001b[38;5;124m\"\u001b[39m\u001b[38;5;124muser_id\u001b[39m\u001b[38;5;124m\"\u001b[39m], \u001b[38;5;124m\"\u001b[39m\u001b[38;5;124minner\u001b[39m\u001b[38;5;124m\"\u001b[39m)\u001b[38;5;241m.\u001b[39mfilter(\n\u001b[1;32m      2\u001b[0m     (user_data[\u001b[38;5;124m\"\u001b[39m\u001b[38;5;124moccupation\u001b[39m\u001b[38;5;124m\"\u001b[39m] \u001b[38;5;241m==\u001b[39m \u001b[38;5;124m\"\u001b[39m\u001b[38;5;124mprogrammer\u001b[39m\u001b[38;5;124m\"\u001b[39m) \u001b[38;5;241m&\u001b[39m (rating_data[\u001b[38;5;124m\"\u001b[39m\u001b[38;5;124mrating\u001b[39m\u001b[38;5;124m\"\u001b[39m] \u001b[38;5;241m>\u001b[39m\u001b[38;5;241m=\u001b[39m \u001b[38;5;241m4\u001b[39m)\n\u001b[1;32m      3\u001b[0m )\u001b[38;5;241m.\u001b[39mjoin(item_data, [\u001b[38;5;124m\"\u001b[39m\u001b[38;5;124mitem_id\u001b[39m\u001b[38;5;124m\"\u001b[39m], \u001b[38;5;124m\"\u001b[39m\u001b[38;5;124minner\u001b[39m\u001b[38;5;124m\"\u001b[39m)\u001b[38;5;241m.\u001b[39mjoin(genre_data, [\u001b[38;5;124m\"\u001b[39m\u001b[38;5;124mid_classification\u001b[39m\u001b[38;5;124m\"\u001b[39m], \u001b[38;5;124m\"\u001b[39m\u001b[38;5;124minner\u001b[39m\u001b[38;5;124m\"\u001b[39m)\u001b[38;5;241m.\u001b[39mgroupBy(\u001b[38;5;124m\"\u001b[39m\u001b[38;5;124m_classification\u001b[39m\u001b[38;5;124m\"\u001b[39m)\u001b[38;5;241m.\u001b[39mcount()\n\u001b[1;32m      4\u001b[0m programmer_ratings\u001b[38;5;241m.\u001b[39mshow()\n\nFile \u001b[0;32m/databricks/spark/python/pyspark/instrumentation_utils.py:48\u001b[0m, in \u001b[0;36m_wrap_function.<locals>.wrapper\u001b[0;34m(*args, **kwargs)\u001b[0m\n\u001b[1;32m     46\u001b[0m start \u001b[38;5;241m=\u001b[39m time\u001b[38;5;241m.\u001b[39mperf_counter()\n\u001b[1;32m     47\u001b[0m \u001b[38;5;28;01mtry\u001b[39;00m:\n\u001b[0;32m---> 48\u001b[0m     res \u001b[38;5;241m=\u001b[39m \u001b[43mfunc\u001b[49m\u001b[43m(\u001b[49m\u001b[38;5;241;43m*\u001b[39;49m\u001b[43margs\u001b[49m\u001b[43m,\u001b[49m\u001b[43m \u001b[49m\u001b[38;5;241;43m*\u001b[39;49m\u001b[38;5;241;43m*\u001b[39;49m\u001b[43mkwargs\u001b[49m\u001b[43m)\u001b[49m\n\u001b[1;32m     49\u001b[0m     logger\u001b[38;5;241m.\u001b[39mlog_success(\n\u001b[1;32m     50\u001b[0m         module_name, class_name, function_name, time\u001b[38;5;241m.\u001b[39mperf_counter() \u001b[38;5;241m-\u001b[39m start, signature\n\u001b[1;32m     51\u001b[0m     )\n\u001b[1;32m     52\u001b[0m     \u001b[38;5;28;01mreturn\u001b[39;00m res\n\nFile \u001b[0;32m/databricks/spark/python/pyspark/sql/dataframe.py:2364\u001b[0m, in \u001b[0;36mDataFrame.join\u001b[0;34m(self, other, on, how)\u001b[0m\n\u001b[1;32m   2362\u001b[0m         on \u001b[38;5;241m=\u001b[39m \u001b[38;5;28mself\u001b[39m\u001b[38;5;241m.\u001b[39m_jseq([])\n\u001b[1;32m   2363\u001b[0m     \u001b[38;5;28;01massert\u001b[39;00m \u001b[38;5;28misinstance\u001b[39m(how, \u001b[38;5;28mstr\u001b[39m), \u001b[38;5;124m\"\u001b[39m\u001b[38;5;124mhow should be a string\u001b[39m\u001b[38;5;124m\"\u001b[39m\n\u001b[0;32m-> 2364\u001b[0m     jdf \u001b[38;5;241m=\u001b[39m \u001b[38;5;28;43mself\u001b[39;49m\u001b[38;5;241;43m.\u001b[39;49m\u001b[43m_jdf\u001b[49m\u001b[38;5;241;43m.\u001b[39;49m\u001b[43mjoin\u001b[49m\u001b[43m(\u001b[49m\u001b[43mother\u001b[49m\u001b[38;5;241;43m.\u001b[39;49m\u001b[43m_jdf\u001b[49m\u001b[43m,\u001b[49m\u001b[43m \u001b[49m\u001b[43mon\u001b[49m\u001b[43m,\u001b[49m\u001b[43m \u001b[49m\u001b[43mhow\u001b[49m\u001b[43m)\u001b[49m\n\u001b[1;32m   2365\u001b[0m \u001b[38;5;28;01mreturn\u001b[39;00m DataFrame(jdf, \u001b[38;5;28mself\u001b[39m\u001b[38;5;241m.\u001b[39msparkSession)\n\nFile \u001b[0;32m/databricks/spark/python/lib/py4j-0.10.9.5-src.zip/py4j/java_gateway.py:1321\u001b[0m, in \u001b[0;36mJavaMember.__call__\u001b[0;34m(self, *args)\u001b[0m\n\u001b[1;32m   1315\u001b[0m command \u001b[38;5;241m=\u001b[39m proto\u001b[38;5;241m.\u001b[39mCALL_COMMAND_NAME \u001b[38;5;241m+\u001b[39m\\\n\u001b[1;32m   1316\u001b[0m     \u001b[38;5;28mself\u001b[39m\u001b[38;5;241m.\u001b[39mcommand_header \u001b[38;5;241m+\u001b[39m\\\n\u001b[1;32m   1317\u001b[0m     args_command \u001b[38;5;241m+\u001b[39m\\\n\u001b[1;32m   1318\u001b[0m     proto\u001b[38;5;241m.\u001b[39mEND_COMMAND_PART\n\u001b[1;32m   1320\u001b[0m answer \u001b[38;5;241m=\u001b[39m \u001b[38;5;28mself\u001b[39m\u001b[38;5;241m.\u001b[39mgateway_client\u001b[38;5;241m.\u001b[39msend_command(command)\n\u001b[0;32m-> 1321\u001b[0m return_value \u001b[38;5;241m=\u001b[39m \u001b[43mget_return_value\u001b[49m\u001b[43m(\u001b[49m\n\u001b[1;32m   1322\u001b[0m \u001b[43m    \u001b[49m\u001b[43manswer\u001b[49m\u001b[43m,\u001b[49m\u001b[43m \u001b[49m\u001b[38;5;28;43mself\u001b[39;49m\u001b[38;5;241;43m.\u001b[39;49m\u001b[43mgateway_client\u001b[49m\u001b[43m,\u001b[49m\u001b[43m \u001b[49m\u001b[38;5;28;43mself\u001b[39;49m\u001b[38;5;241;43m.\u001b[39;49m\u001b[43mtarget_id\u001b[49m\u001b[43m,\u001b[49m\u001b[43m \u001b[49m\u001b[38;5;28;43mself\u001b[39;49m\u001b[38;5;241;43m.\u001b[39;49m\u001b[43mname\u001b[49m\u001b[43m)\u001b[49m\n\u001b[1;32m   1324\u001b[0m \u001b[38;5;28;01mfor\u001b[39;00m temp_arg \u001b[38;5;129;01min\u001b[39;00m temp_args:\n\u001b[1;32m   1325\u001b[0m     temp_arg\u001b[38;5;241m.\u001b[39m_detach()\n\nFile \u001b[0;32m/databricks/spark/python/pyspark/errors/exceptions.py:234\u001b[0m, in \u001b[0;36mcapture_sql_exception.<locals>.deco\u001b[0;34m(*a, **kw)\u001b[0m\n\u001b[1;32m    230\u001b[0m converted \u001b[38;5;241m=\u001b[39m convert_exception(e\u001b[38;5;241m.\u001b[39mjava_exception)\n\u001b[1;32m    231\u001b[0m \u001b[38;5;28;01mif\u001b[39;00m \u001b[38;5;129;01mnot\u001b[39;00m \u001b[38;5;28misinstance\u001b[39m(converted, UnknownException):\n\u001b[1;32m    232\u001b[0m     \u001b[38;5;66;03m# Hide where the exception came from that shows a non-Pythonic\u001b[39;00m\n\u001b[1;32m    233\u001b[0m     \u001b[38;5;66;03m# JVM exception message.\u001b[39;00m\n\u001b[0;32m--> 234\u001b[0m     \u001b[38;5;28;01mraise\u001b[39;00m converted \u001b[38;5;28;01mfrom\u001b[39;00m \u001b[38;5;28mNone\u001b[39m\n\u001b[1;32m    235\u001b[0m \u001b[38;5;28;01melse\u001b[39;00m:\n\u001b[1;32m    236\u001b[0m     \u001b[38;5;28;01mraise\u001b[39;00m\n\n\u001b[0;31mAnalysisException\u001b[0m: USING column `id_classification` cannot be resolved on the left side of the join. The left-side columns: [item_id, user_id, rating, timestamp, age, gender, occupation, zip_code, title, release_date, imdb_url].",
       "errorSummary": "<span class='ansi-red-fg'>AnalysisException</span>: USING column `id_classification` cannot be resolved on the left side of the join. The left-side columns: [item_id, user_id, rating, timestamp, age, gender, occupation, zip_code, title, release_date, imdb_url].",
       "errorTraceType": "ansi",
       "metadata": {},
       "type": "ipynbError"
      }
     },
     "output_type": "display_data"
    }
   ],
   "source": [
    "#Những người dùng nghề 'programmer' rating >= 4 những thể loại phim nào\n",
    "programmer_ratings = rating_data.join(user_data, [\"user_id\"], \"inner\").filter(\n",
    "(user_data[\"occupation\"] == \"programmer\") & (rating_data[\"rating\"] >= 4)\n",
    ").join(item_data, [\"item_id\"], \"inner\").join(genre_data, [\"id_classification\"], \"inner\").groupBy(\"_classification\").count()\n",
    "programmer_ratings.show()"
   ]
  },
  {
   "cell_type": "code",
   "execution_count": null,
   "metadata": {
    "application/vnd.databricks.v1+cell": {
     "cellMetadata": {
      "byteLimit": 2048000,
      "rowLimit": 10000
     },
     "inputWidgets": {},
     "nuid": "a7b0395f-2f33-4a08-9d32-2673668d47dd",
     "showTitle": false,
     "title": ""
    }
   },
   "outputs": [
    {
     "name": "stdout",
     "output_type": "stream",
     "text": [
      "+-------+--------------------+------------+--------------------+\n",
      "|item_id|               title|release_date|            imdb_url|\n",
      "+-------+--------------------+------------+--------------------+\n",
      "|    273|         Heat (1995)| 01-Jan-1995|http://us.imdb.co...|\n",
      "|    274|      Sabrina (1995)| 01-Jan-1995|http://us.imdb.co...|\n",
      "|    275|Sense and Sensibi...| 01-Jan-1995|http://us.imdb.co...|\n",
      "|    276|Leaving Las Vegas...| 01-Jan-1995|http://us.imdb.co...|\n",
      "|    277|  Restoration (1995)| 01-Jan-1995|http://us.imdb.co...|\n",
      "|    278| Bed of Roses (1996)| 01-Jan-1996|http://us.imdb.co...|\n",
      "|    279|Once Upon a Time....| 01-Jan-1995|http://us.imdb.co...|\n",
      "|    280|Up Close and Pers...| 01-Mar-1996|http://us.imdb.co...|\n",
      "|    281|River Wild, The (...| 01-Jan-1994|http://us.imdb.co...|\n",
      "|    282|Time to Kill, A (...| 13-Jul-1996|http://us.imdb.co...|\n",
      "|    283|         Emma (1996)| 02-Aug-1996|http://us.imdb.co...|\n",
      "|    284|      Tin Cup (1996)| 16-Aug-1996|http://us.imdb.co...|\n",
      "|    285|Secrets & Lies (1...| 04-Oct-1996|http://us.imdb.co...|\n",
      "|    286|English Patient, ...| 15-Nov-1996|http://us.imdb.co...|\n",
      "|    287|Marvin's Room (1996)| 18-Dec-1996|http://us.imdb.co...|\n",
      "|    288|       Scream (1996)| 20-Dec-1996|http://us.imdb.co...|\n",
      "|    289|        Evita (1996)| 25-Dec-1996|http://us.imdb.co...|\n",
      "|    290|Fierce Creatures ...| 10-Jan-1997|http://us.imdb.co...|\n",
      "|    291|Absolute Power (1...| 14-Feb-1997|http://us.imdb.co...|\n",
      "|    292|     Rosewood (1997)| 21-Feb-1997|http://us.imdb.co...|\n",
      "+-------+--------------------+------------+--------------------+\n",
      "only showing top 20 rows\n",
      "\n"
     ]
    }
   ],
   "source": [
    "#Những bộ phim mà người dùng 1 chưa rating\n",
    "user1_rated_movies = rating_data.filter(rating_data[\"user_id\"] == 1).select(\"item_id\")\n",
    "unrated_movies = item_data.join(user1_rated_movies, [\"item_id\"], \"leftanti\")\n",
    "unrated_movies.show()"
   ]
  },
  {
   "cell_type": "code",
   "execution_count": null,
   "metadata": {
    "application/vnd.databricks.v1+cell": {
     "cellMetadata": {
      "byteLimit": 2048000,
      "rowLimit": 10000
     },
     "inputWidgets": {},
     "nuid": "691a8aea-efbf-4b0a-a543-2281c7e3185a",
     "showTitle": false,
     "title": ""
    }
   },
   "outputs": [
    {
     "name": "stdout",
     "output_type": "stream",
     "text": [
      "+-----+\n",
      "|title|\n",
      "+-----+\n",
      "+-----+\n",
      "\n"
     ]
    }
   ],
   "source": [
    "#Những bộ phim mà tất cả rating >= 4\n",
    "from pyspark.sql import functions as F\n",
    "highly_rated_movies = rating_data.filter(rating_data[\"rating\"] >= 4).groupBy(\"item_id\").agg(\n",
    "    F.count(\"rating\").alias(\"total_ratings\")\n",
    ").join(item_data, [\"item_id\"], \"inner\").filter(\n",
    "    F.col(\"total_ratings\") == rating_data.select(\"user_id\").distinct().count()\n",
    ").select(\"title\")\n",
    "highly_rated_movies.show()"
   ]
  },
  {
   "cell_type": "code",
   "execution_count": null,
   "metadata": {
    "application/vnd.databricks.v1+cell": {
     "cellMetadata": {
      "byteLimit": 2048000,
      "rowLimit": 10000
     },
     "inputWidgets": {},
     "nuid": "2802f28f-abc9-4a1d-bb26-45ad731d0da5",
     "showTitle": false,
     "title": ""
    }
   },
   "outputs": [
    {
     "name": "stdout",
     "output_type": "stream",
     "text": [
      "+--------------------+\n",
      "|               title|\n",
      "+--------------------+\n",
      "|It's a Wonderful ...|\n",
      "|Courage Under Fir...|\n",
      "|Secret of Roan In...|\n",
      "|Ghost and the Dar...|\n",
      "|  Bulletproof (1996)|\n",
      "|  Double Team (1997)|\n",
      "|Duoluo tianshi (1...|\n",
      "|   Full Speed (1996)|\n",
      "|Man Without a Fac...|\n",
      "|Angels in the Out...|\n",
      "|  Money Train (1995)|\n",
      "|Amityville: Dollh...|\n",
      "|       Sirens (1994)|\n",
      "|Jungle2Jungle (1997)|\n",
      "|Fire Down Below (...|\n",
      "|Anne Frank Rememb...|\n",
      "|Truman Show, The ...|\n",
      "|Hurricane Streets...|\n",
      "|Trial by Jury (1994)|\n",
      "|Man in the Iron M...|\n",
      "+--------------------+\n",
      "only showing top 20 rows\n",
      "\n"
     ]
    }
   ],
   "source": [
    "#Những bộ phim có độ lệch rating giữa các người dùng không quá 2\n",
    "rating_deviation = rating_data.groupBy(\"item_id\").agg(\n",
    "    F.stddev(\"rating\").alias(\"rating_deviation\")\n",
    ").filter(F.col(\"rating_deviation\") <= 2).join(item_data, [\"item_id\"], \"inner\").select(\"title\")\n",
    "rating_deviation.show()"
   ]
  },
  {
   "cell_type": "code",
   "execution_count": null,
   "metadata": {
    "application/vnd.databricks.v1+cell": {
     "cellMetadata": {
      "byteLimit": 2048000,
      "rowLimit": 10000
     },
     "inputWidgets": {},
     "nuid": "760a62fd-a277-41a1-9af5-d99216e5a9da",
     "showTitle": false,
     "title": ""
    }
   },
   "outputs": [
    {
     "name": "stdout",
     "output_type": "stream",
     "text": [
      "+--------------------+\n",
      "|               title|\n",
      "+--------------------+\n",
      "|     Rosewood (1997)|\n",
      "|3 Ninjas: High No...|\n",
      "|  Ulee's Gold (1997)|\n",
      "|Fierce Creatures ...|\n",
      "|Midnight in the G...|\n",
      "|River Wild, The (...|\n",
      "|Up Close and Pers...|\n",
      "|  Ulee's Gold (1997)|\n",
      "|FairyTale: A True...|\n",
      "|Devil's Advocate,...|\n",
      "|As Good As It Get...|\n",
      "|    Apt Pupil (1998)|\n",
      "|     In & Out (1997)|\n",
      "|      Titanic (1997)|\n",
      "|Once Upon a Time....|\n",
      "|      Hoodlum (1997)|\n",
      "|     Face/Off (1997)|\n",
      "|  Restoration (1995)|\n",
      "|Time to Kill, A (...|\n",
      "|    Breakdown (1997)|\n",
      "+--------------------+\n",
      "only showing top 20 rows\n",
      "\n"
     ]
    }
   ],
   "source": [
    "\n",
    "#Những bộ phim người dùng 1 đã rating nhưng người dùng 2 không rating\n",
    "user1_ratings = rating_data.filter(rating_data[\"user_id\"] == 1).select(\"item_id\")\n",
    "user2_unrated_movies = rating_data.filter(rating_data[\"user_id\"] == 2).select(\"item_id\").join(\n",
    "    user1_ratings, [\"item_id\"], \"leftanti\"\n",
    ").join(item_data, [\"item_id\"], \"inner\").select(\"title\")\n",
    "user2_unrated_movies.show()"
   ]
  },
  {
   "cell_type": "code",
   "execution_count": null,
   "metadata": {
    "application/vnd.databricks.v1+cell": {
     "cellMetadata": {
      "byteLimit": 2048000,
      "rowLimit": 10000
     },
     "inputWidgets": {},
     "nuid": "cf9a087f-8ac1-45ae-8611-8b8719c3a343",
     "showTitle": false,
     "title": ""
    }
   },
   "outputs": [
    {
     "name": "stdout",
     "output_type": "stream",
     "text": [
      "+--------------------+\n",
      "|               title|\n",
      "+--------------------+\n",
      "|Good Will Hunting...|\n",
      "|      Contact (1997)|\n",
      "|  Postino, Il (1994)|\n",
      "|        Kolya (1996)|\n",
      "|  Richard III (1995)|\n",
      "|My Best Friend's ...|\n",
      "|        Fargo (1996)|\n",
      "|Full Monty, The (...|\n",
      "|    Toy Story (1995)|\n",
      "| Men in Black (1997)|\n",
      "|Jerry Maguire (1996)|\n",
      "|    Star Wars (1977)|\n",
      "|Godfather, The (1...|\n",
      "|Birdcage, The (1996)|\n",
      "|Shall We Dance? (...|\n",
      "|Antonia's Line (1...|\n",
      "|Truth About Cats ...|\n",
      "|Mighty Aphrodite ...|\n",
      "+--------------------+\n",
      "\n"
     ]
    }
   ],
   "source": [
    "#Những bộ phim rating chung của người dùng 1 và 2\n",
    "user1_ratings = rating_data.filter(rating_data[\"user_id\"] == 1).select(\"item_id\")\n",
    "user2_ratings = rating_data.filter(rating_data[\"user_id\"] == 2).select(\"item_id\")\n",
    "common_movies = user1_ratings.join(user2_ratings, [\"item_id\"], \"inner\").join(\n",
    "    item_data, [\"item_id\"], \"inner\"\n",
    ").select(\"title\")\n",
    "common_movies.show()"
   ]
  },
  {
   "cell_type": "code",
   "execution_count": null,
   "metadata": {
    "application/vnd.databricks.v1+cell": {
     "cellMetadata": {
      "byteLimit": 2048000,
      "rowLimit": 10000
     },
     "inputWidgets": {},
     "nuid": "c8559f94-00fb-48b8-b4b3-de8d481ee9ed",
     "showTitle": false,
     "title": ""
    }
   },
   "outputs": [
    {
     "name": "stdout",
     "output_type": "stream",
     "text": [
      "+--------------------+--------------------+\n",
      "|               title|               users|\n",
      "+--------------------+--------------------+\n",
      "|    Toy Story (1995)|[843, 793, 785, 7...|\n",
      "|    GoldenEye (1995)|[466, 102, 387, 7...|\n",
      "|   Four Rooms (1995)|[81, 793, 916, 10...|\n",
      "|   Get Shorty (1995)|[466, 233, 102, 3...|\n",
      "|      Copycat (1995)|[102, 437, 814, 9...|\n",
      "|Shanghai Triad (Y...|[9, 655, 524, 1, ...|\n",
      "|Twelve Monkeys (1...|[843, 466, 814, 7...|\n",
      "|         Babe (1995)|[233, 610, 437, 3...|\n",
      "|Dead Man Walking ...|[793, 764, 277, 2...|\n",
      "|  Richard III (1995)|[662, 387, 2, 104...|\n",
      "|Seven (Se7en) (1995)|[466, 437, 764, 3...|\n",
      "|Usual Suspects, T...|[437, 785, 387, 2...|\n",
      "|Mighty Aphrodite ...|[102, 437, 560, 3...|\n",
      "|  Postino, Il (1994)|[233, 437, 306, 7...|\n",
      "|Mr. Holland's Opu...|[437, 764, 277, 2...|\n",
      "|French Twist (Gaz...|[305, 894, 763, 2...|\n",
      "|From Dusk Till Da...|[466, 814, 916, 3...|\n",
      "|White Balloon, Th...|[15, 655, 1, 90, ...|\n",
      "|Antonia's Line (1...|[539, 52, 306, 2,...|\n",
      "|Angels and Insect...|[458, 387, 460, 8...|\n",
      "+--------------------+--------------------+\n",
      "only showing top 20 rows\n",
      "\n"
     ]
    }
   ],
   "source": [
    "#Những bộ phim rating chung của từng cặp người dùng\n",
    "user_ratings = rating_data.groupBy(\"item_id\").agg(\n",
    "    F.collect_set(\"user_id\").alias(\"users\")\n",
    ").filter(F.size(\"users\") > 1).join(\n",
    "    item_data, [\"item_id\"], \"inner\"\n",
    ").select(\"title\", \"users\")\n",
    "user_ratings.show()"
   ]
  }
 ],
 "metadata": {
  "application/vnd.databricks.v1+notebook": {
   "dashboards": [],
   "language": "python",
   "notebookMetadata": {
    "pythonIndentUnit": 4
   },
   "notebookName": "Baithuchanh5",
   "widgets": {}
  },
  "language_info": {
   "name": "python"
  }
 },
 "nbformat": 4,
 "nbformat_minor": 0
}
